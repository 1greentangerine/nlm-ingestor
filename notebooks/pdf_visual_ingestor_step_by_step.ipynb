{
 "cells": [
  {
   "cell_type": "markdown",
   "id": "207c307c-fda9-4091-b410-350edd6617df",
   "metadata": {},
   "source": [
    "### Run PDF Visual Ingestor step by step\n",
    "This notebook shows you examples of how to use the visual ingestor. You will learn:\n",
    "1. How to run and see raw output from the nlmatics modified tika server\n",
    "2. Parse the raw output from tika server using visual ingestor\n",
    "\n",
    "Before proceeding ensure that you have a tika server running:\n",
    "1. Install latest version of java\n",
    "2. Run java -jar /jars/tika-server-standard-nlm-modified-2.4.1_v4.jar"
   ]
  },
  {
   "cell_type": "code",
   "execution_count": 25,
   "id": "914b355b-2fc3-4b31-ad2c-1ba97d12c326",
   "metadata": {},
   "outputs": [
    {
     "name": "stderr",
     "output_type": "stream",
     "text": [
      "/var/folders/10/036rtqts0zv6b9spnjgkl1hh0000gn/T/ipykernel_28094/131047230.py:4: DeprecationWarning: Importing display from IPython.core.display is deprecated since IPython 7.14, please import from IPython display\n",
      "  from IPython.core.display import display, HTML\n"
     ]
    },
    {
     "name": "stdout",
     "output_type": "stream",
     "text": [
      "The autoreload extension is already loaded. To reload it, use:\n",
      "  %reload_ext autoreload\n"
     ]
    }
   ],
   "source": [
    "import os\n",
    "import sys\n",
    "from tika import parser\n",
    "from IPython.core.display import display, HTML\n",
    "from nlm_ingestor.ingestor.visual_ingestor import visual_ingestor, table_parser, indent_parser, block_renderer, order_fixer\n",
    "from bs4 import BeautifulSoup\n",
    "\n",
    "src_dirs = ['../']\n",
    "\n",
    "for src_dir in src_dirs:\n",
    "    #print(src_dir)\n",
    "    module_path = os.path.abspath(os.path.join(src_dir))\n",
    "    if module_path not in sys.path:\n",
    "        sys.path.append(module_path)\n",
    "\n",
    "\n",
    "%load_ext autoreload\n",
    "\n",
    "from ingestor import ingestor, patterns, line_parser, visual_ingestor\n",
    "\n",
    "%autoreload 2"
   ]
  },
  {
   "cell_type": "markdown",
   "id": "e4788b6d-2611-40b9-b802-a94bc52181e8",
   "metadata": {},
   "source": [
    "### It is very important to first ensure that you have your own tika server running and use the url here\n",
    "\n",
    "If you do not run the tika server, py tika library will start a default server which won't have all the nlmatics modifications to proceed further."
   ]
  },
  {
   "cell_type": "code",
   "execution_count": 26,
   "id": "981fde97-0941-43da-a6f8-f5d025ee2578",
   "metadata": {},
   "outputs": [],
   "source": [
    "os.environ[\"TIKA_SERVER_ENDPOINT\"] = \"http://localhost:9998\""
   ]
  },
  {
   "cell_type": "markdown",
   "id": "f58ba9e6-e627-49ac-8f39-559c0996ac60",
   "metadata": {},
   "source": [
    "The following code:\n",
    "1. takes a pdf from local file system \n",
    "2. uses the nlmatics modified tika server to parse it, and\n",
    "3. displays it on the browser"
   ]
  },
  {
   "cell_type": "code",
   "execution_count": 32,
   "id": "57d655f9-af7f-4c04-a016-b1a9dc1882f0",
   "metadata": {},
   "outputs": [
    {
     "name": "stdout",
     "output_type": "stream",
     "text": [
      "ocr\n"
     ]
    }
   ],
   "source": [
    "doc_loc = '/Users/ambikasukla/projects/data/sample-8k.pdf'\n",
    "doc_loc = '/Users/ambikasukla/Downloads/scansmpl.pdf'\n",
    "\n",
    "# by default we will turn off ocr as it is slow, use true here to parse ocr files\n",
    "needs_ocr = True\n",
    "timeout = 3000\n",
    "if not needs_ocr:\n",
    "    headers = {\n",
    "        \"X-Tika-OCRskipOcr\": \"true\",\n",
    "    }\n",
    "    parsed = parser.from_file(doc_loc, xmlContent=True, requestOptions={'headers': headers, 'timeout': timeout})\n",
    "else:\n",
    "    print(\"ocr\")\n",
    "    headers = {\n",
    "        \"X-Tika-OCRskipOcr\": \"false\",\n",
    "        \"X-Tika-OCRoutputType\": \"hocr\",\n",
    "        \"X-Tika-OCRocrEngineMode\": \"3\",\n",
    "        \"X-Tika-PDFExtractInlineImages\":\"false\",\n",
    "        \"X-Tika-Timeout-Millis\": str(100*timeout),\n",
    "        \"X-Tika-OCRtimeoutSeconds\": str(timeout),\n",
    "    }\n",
    "    parsed = parser.from_file(doc_loc, xmlContent=True, requestOptions={'headers': headers, 'timeout': timeout})\n",
    "\n",
    "html_str = parsed[\"content\"]\n",
    "\n",
    "# optionally you can store these files locally and view them in the browser\n",
    "# html_loc = '/mnt/c/Users/ambik/Downloads/orig-html.html'\n",
    "# f = open(html_loc, \"w\")\n",
    "# f.write(html_str)\n",
    "# f.close()"
   ]
  },
  {
   "cell_type": "code",
   "execution_count": 34,
   "id": "bca9a811-b789-4989-908d-78462ace4004",
   "metadata": {},
   "outputs": [
    {
     "data": {
      "text/html": [
       "<html xmlns=\"http://www.w3.org/1999/xhtml\">\n",
       "<head>\n",
       "<meta name=\"pdf:PDFVersion\" content=\"1.3\" />\n",
       "<meta name=\"pdf:docinfo:title\" content=\"Sample Scanned Image\" />\n",
       "<meta name=\"xmp:CreatorTool\" content=\"Paperless 800.387.9001\" />\n",
       "<meta name=\"pdf:hasXFA\" content=\"false\" />\n",
       "<meta name=\"access_permission:modify_annotations\" content=\"true\" />\n",
       "<meta name=\"access_permission:can_print_degraded\" content=\"true\" />\n",
       "<meta name=\"dc:creator\" content=\"Paperless 800-387-9001\" />\n",
       "<meta name=\"dcterms:modified\" content=\"2000-10-03T16:16:56Z\" />\n",
       "<meta name=\"dc:format\" content=\"application/pdf; version=1.3\" />\n",
       "<meta name=\"pdf:docinfo:creator_tool\" content=\"Paperless 800.387.9001\" />\n",
       "<meta name=\"access_permission:fill_in_form\" content=\"true\" />\n",
       "<meta name=\"pdf:docinfo:modified\" content=\"2000-10-03T16:16:56Z\" />\n",
       "<meta name=\"pdf:hasCollection\" content=\"false\" />\n",
       "<meta name=\"pdf:encrypted\" content=\"false\" />\n",
       "<meta name=\"dc:title\" content=\"Sample Scanned Image\" />\n",
       "<meta name=\"Content-Length\" content=\"21530\" />\n",
       "<meta name=\"pdf:docinfo:subject\" content=\"Paperless Demo\" />\n",
       "<meta name=\"pdf:hasMarkedContent\" content=\"false\" />\n",
       "<meta name=\"Content-Type\" content=\"application/pdf\" />\n",
       "<meta name=\"pdf:docinfo:creator\" content=\"Paperless 800-387-9001\" />\n",
       "<meta name=\"pdf:producer\" content=\"Imaging Dept.\" />\n",
       "<meta name=\"dc:subject\" content=\"Paperless Demo\" />\n",
       "<meta name=\"access_permission:extract_for_accessibility\" content=\"true\" />\n",
       "<meta name=\"access_permission:assemble_document\" content=\"true\" />\n",
       "<meta name=\"xmpTPg:NPages\" content=\"1\" />\n",
       "<meta name=\"pdf:hasXMP\" content=\"false\" />\n",
       "<meta name=\"access_permission:extract_content\" content=\"true\" />\n",
       "<meta name=\"access_permission:can_print\" content=\"true\" />\n",
       "<meta name=\"X-TIKA:Parsed-By\" content=\"org.apache.tika.parser.DefaultParser\" />\n",
       "<meta name=\"X-TIKA:Parsed-By\" content=\"org.apache.tika.parser.pdf.PDFParser\" />\n",
       "<meta name=\"access_permission:can_modify\" content=\"true\" />\n",
       "<meta name=\"pdf:docinfo:producer\" content=\"Imaging Dept.\" />\n",
       "<title>Sample Scanned Image</title>\n",
       "</head>\n",
       "<body><div class=\"page\" style=\"height:783.0px; width:611.0px; position: relative;border: 1px solid red;\"><svg width=\"611.0\" height=\"783.0\" /><div class=\"annotation\"><div class=\"annotationTitle\">Sticky Note from Paperless</div>\n",
       "<div class=\"annotationContents\">This is a sample page scanned at 200dpi and converted to PDF. It is not searchable. That is, all you see is the original image of the source document.</div>\n",
       "</div>\n",
       "</div>\n",
       "<ul>\t<li>Print</li>\n",
       "\t<li>Exit</li>\n",
       "</ul>\n",
       "</body></html>"
      ],
      "text/plain": [
       "<IPython.core.display.HTML object>"
      ]
     },
     "metadata": {},
     "output_type": "display_data"
    }
   ],
   "source": [
    "display(HTML(html_str))"
   ]
  },
  {
   "cell_type": "markdown",
   "id": "63e8afff-ee03-4854-be2c-f0e2d6aa4c80",
   "metadata": {},
   "source": [
    "The following code:\n",
    "- Takes the html returned from nlmatics modified tika parser and parses it using bs\n",
    "- Passes the bs output pages to visual_ingestor to turn it into a format that you see in llmsherpa\n",
    "- displays the html"
   ]
  },
  {
   "cell_type": "code",
   "execution_count": 24,
   "id": "57d4a7f1-9a8c-4407-a5ca-54266f681145",
   "metadata": {},
   "outputs": [
    {
     "name": "stdout",
     "output_type": "stream",
     "text": [
      "processing page:  0  Number of p_tags....  52\n",
      "processing page:  1  Number of p_tags....  243\n",
      "processing page:  2  Number of p_tags....  38\n",
      "processing page:  3  Number of p_tags....  34\n",
      "processing page:  4  Number of p_tags....  89\n",
      "processing page:  5  Number of p_tags....  39\n",
      "processing page:  6  Number of p_tags....  17\n",
      "processing page:  7  Number of p_tags....  13\n",
      "processing page:  8  Number of p_tags....  14\n",
      "processing page:  9  Number of p_tags....  26\n",
      "processing blocks in page:  1\n",
      "processing blocks in page:  2\n",
      "processing blocks in page:  3\n",
      "processing blocks in page:  4\n",
      "processing blocks in page:  5\n",
      "processing blocks in page:  5\n",
      "processing blocks in page:  6\n",
      "processing blocks in page:  7\n",
      "processing blocks in page:  8\n",
      "processing blocks in page:  9\n"
     ]
    },
    {
     "data": {
      "text/html": [
       "<!DOCTYPE html><html><head><style>\n",
       ".cls_0 {\n",
       "font-family: LiberationSerif-Bold;font-style: normal;font-size: 18.119999999999997px;font-weight: 600;margin-left: 0px;text-transform: none;text-align: left\n",
       "}\n",
       ".cls_1 {\n",
       "font-family: LiberationSerif-Bold;font-style: normal;font-size: 12.96px;font-weight: 600;margin-left: 0px;text-transform: none;text-align: left\n",
       "}\n",
       ".cls_2 {\n",
       "font-family: LiberationSerif-Bold;font-style: normal;font-size: 23.279999999999998px;font-weight: 600;margin-left: 0px;text-transform: none;text-align: left\n",
       "}\n",
       ".cls_3 {\n",
       "font-family: LiberationSerif;font-style: normal;font-size: 12.96px;font-weight: 400;margin-left: 0px;text-transform: none;text-align: left\n",
       "}\n",
       ".cls_4 {\n",
       "font-family: DejaVuSans;font-style: normal;font-size: 12.96px;font-weight: 400;margin-left: 0px;text-transform: none;text-align: left\n",
       "}\n",
       ".cls_5 {\n",
       "font-family: LiberationSerif-Italic;font-style: italic;font-size: 12.96px;font-weight: 400;margin-left: 0px;text-transform: none;text-align: left\n",
       "}\n",
       ".cls_6 {\n",
       "font-family: LiberationSerif-Bold;font-style: normal;font-size: 10.319999999999999px;font-weight: 600;margin-left: 0px;text-transform: none;text-align: left\n",
       "}\n",
       ".cls_7 {\n",
       "font-family: LiberationSerif;font-style: normal;font-size: 10.319999999999999px;font-weight: 400;margin-left: 0px;text-transform: none;text-align: left\n",
       "}\n",
       "table {border-collapse: collapse; margin-top: 10px}table, th, td {border: 1px solid lightgray;padding: 5px;}th {background: #337ab773}li {padding-left: 30px; list-style: none; margin-top: 10px}li::first-letter {color: #5656a3}h4 {color: #337ab7}.nlm_full_row {background: #dfe5e7; font-weight: 600; color: #5656a3}</style></head><h7>---- 0 ----</h7><p style='margin-left: 0px;' page_idx=0 class=\"cls_0 nlm_sent_0\">UNITED STATES SECURITIES AND EXCHANGE COMMISSION Washington, D.C. 20549 FORM 8-K CURRENT REPORT Pursuant to Section 13 or 15(d) of the Securities Exchange Act of 1934 Date of Report (date of earliest event reported): October 16, 2023 (Exact name of registrant as specified in its charter) MICROSOFT CORPORATION</p><table style='margin-left: 20px;' page_idx=0 class=\"cls_1 nlm_sent_1\" page_idx=\"0\" top=\"208.6\" left=\"86.21\" name=\"\"><tbody><tr style='margin-left: 20px;' page_idx=0 class=\"cls_1 nlm_sent_1\"><th style='margin-left: 20px;' page_idx=0>Washington</th><th style='margin-left: 20px;' page_idx=0>001-37845</th><th style='margin-left: 20px;' page_idx=0>91-1144442</th></tr><tr style='margin-left: 20px;' page_idx=0 class=\"cls_3 nlm_sent_2\"><td style='margin-left: 20px;' page_idx=0>(State or other jurisdiction of incorporation)</td><td style='margin-left: 20px;' page_idx=0>(Commission File Number)</td><td style='margin-left: 20px;' page_idx=0>(IRS Employer Identification No.)</td></tr><tr style='margin-left: 20px;' page_idx=0 class=\"cls_1 nlm_sent_3\"><td style='margin-left: 20px;' page_idx=0>One Microsoft Way</td><td style='margin-left: 20px;' page_idx=0>Redmond, Washington</td><td style='margin-left: 20px;' page_idx=0>98052-6399</td></tr><tr style='margin-left: 20px;' page_idx=0 class=\"cls_3 nlm_sent_4\"><td style='margin-left: 20px;' page_idx=0>(Address of principal executive offices)</td><td style='margin-left: 20px;' page_idx=0></td><td style='margin-left: 20px;' page_idx=0>(Zip Code)</td></tr></tbody></table><br /><div><button class=\"ant-btn\" button_type=\"approve-table\">Approve Table Above</button><button class=\"ant-btn\" button_type=\"flag-table\">Flag Table Above</button><button class=\"ant-btn\" button_type=\"undo-table-approval\">Undo Approval</button><button class=\"ant-btn\" button_type=\"undo-table-flag\">Undo Flag</button></div><br /><p style='margin-left: 20px;' page_idx=0 class=\"cls_3 nlm_sent_5\">(Former name or former address, if changed since last report) Registrant\\'s telephone number, including area code: (425) 882-8080</p><p style='margin-left: 20px;' page_idx=0 class=\"cls_3 nlm_sent_6\">Check the appropriate box below if the Form 8-K filing is intended to simultaneously satisfy the filing obligation of the registrant under any of the following provisions (see General Instruction A.2):</p><li style='margin-left: 20px;' page_idx=0 class=\"cls_3 nlm_sent_7\">☐ Written communications pursuant to Rule 425 under the Securities Act (17 CFR 230.425)</li><li style='margin-left: 20px;' page_idx=0 class=\"cls_3 nlm_sent_8\">☐ Soliciting material pursuant to Rule 14a-12 under the Exchange Act (17 CFR 240.14a-12)</li><li style='margin-left: 20px;' page_idx=0 class=\"cls_3 nlm_sent_9\">☐ Pre-commencement communications pursuant to Rule 14d-2(b) under the Exchange Act (17 CFR 240.14d-2(b))</li><li style='margin-left: 20px;' page_idx=0 class=\"cls_3 nlm_sent_10\">☐ Pre-commencement communications pursuant to Rule 13e-4(c) under the Exchange Act (17 CFR 240.13e-4(c))</li><p style='margin-left: 20px;' page_idx=0 class=\"cls_3 nlm_sent_11\">Securities registered pursuant to Section 12(b) of the Act:</p><table style='margin-left: 40px;' page_idx=0 class=\"cls_3 nlm_sent_12\" page_idx=\"0\" top=\"486.03\" left=\"18.87\" name=\"\"><tbody><tr style='margin-left: 40px;' page_idx=0 class=\"cls_3 nlm_sent_12\"><th style='margin-left: 40px;' page_idx=0>Title of each class</th><th style='margin-left: 40px;' page_idx=0>Trading Symbol(s)</th><th style='margin-left: 40px;' page_idx=0>Name of each exchange on which registered</th></tr><tr style='margin-left: 40px;' page_idx=0 class=\"cls_3 nlm_sent_13\"><td style='margin-left: 40px;' page_idx=0>Common stock, $0.00000625 par value per share</td><td style='margin-left: 40px;' page_idx=0>MSFT</td><td style='margin-left: 40px;' page_idx=0>NASDAQ</td></tr><tr style='margin-left: 40px;' page_idx=0 class=\"cls_3 nlm_sent_14\"><td style='margin-left: 40px;' page_idx=0>3.125% Notes due 2028</td><td style='margin-left: 40px;' page_idx=0>MSFT</td><td style='margin-left: 40px;' page_idx=0>NASDAQ</td></tr><tr style='margin-left: 40px;' page_idx=0 class=\"cls_3 nlm_sent_15\"><td style='margin-left: 40px;' page_idx=0>2.625% Notes due 2033</td><td style='margin-left: 40px;' page_idx=0>MSFT</td><td style='margin-left: 40px;' page_idx=0>NASDAQ</td></tr></tbody></table><br /><div><button class=\"ant-btn\" button_type=\"approve-table\">Approve Table Above</button><button class=\"ant-btn\" button_type=\"flag-table\">Flag Table Above</button><button class=\"ant-btn\" button_type=\"undo-table-approval\">Undo Approval</button><button class=\"ant-btn\" button_type=\"undo-table-flag\">Undo Flag</button></div><br /><p style='margin-left: 20px;' page_idx=0 class=\"cls_3 nlm_sent_16\">Indicate by check mark whether the registrant is an emerging growth company as defined in Rule 405 of the Securities Act of 1933 (§230.405 of this chapter) or Rule 12b-2 of the Securities Exchange Act of 1934 (§240.12b-2 of this chapter).</p><p style='margin-left: 20px;' page_idx=0 class=\"cls_3 nlm_sent_17\">Emerging growth company ☐</p><p style='margin-left: 20px;' page_idx=0 class=\"cls_3 nlm_sent_18\">If an emerging growth company, indicate by check mark if the registrant has elected not to use the extended transition period for complying with any new or revised financial accounting standards provided pursuant to Section 13(a) of the Exchange Act. ☐</p><h7>---- 1 ----</h7><br /><div><button class=\"ant-btn\" button_type=\"approve-page\" id=\"0\" \">Approve Page 0 Above</button><button class=\"ant-btn\" button_type=\"flag-page\" id=\"0\">Flag Page 0</button><button class=\"ant-btn\" button_type=\"undo-page-approval\" id=\"0\">Undo Approval</button><button class=\"ant-btn\" button_type=\"undo-page-flag\" id=\"0\">Undo Flag</button></div><br /><li style='margin-left: 20px;' page_idx=1 class=\"cls_1 nlm_sent_19\">Item 8.01</li><li style='margin-left: 20px;' page_idx=1 class=\"cls_1 nlm_sent_20\">Other Events.</li><h4 style='margin-left: 40px;' page_idx=1 class=\"cls_5 nlm_sent_21\"> Exchange Offers and Consent Solicitations </h4> <p style='margin-left: 60px;' page_idx=1 class=\"cls_3 nlm_block_15\"><span class=\"nlm_sent_22\">On October 16, 2023, Microsoft Corporation (“Microsoft”) announced that, in connection with the previously announced merger of Activision Blizzard, Inc. (“Activision Blizzard”) with and into a wholly-owned subsidiary of Microsoft (the “Merger”), with Activision Blizzard surviving the Merger as a wholly-owned subsidiary of Microsoft, Microsoft has commenced offers to exchange (each, an “Exchange Offer” and, collectively, the “Exchange Offers”) any and all outstanding notes issued by Activision Blizzard (the “Existing Activision Blizzard Notes”) for (1) up to $3,650,000,000 aggregate principal amount of new notes to be issued by Microsoft (the “New Microsoft Notes”) and (2) cash. </span><span class=\"nlm_sent_23\">Concurrently with the Exchange Offers being made by Microsoft, Activision Blizzard is, upon Microsoft’s request, soliciting consents (each, a “Consent Solicitation” and, collectively, the “Consent Solicitations”) to adopt certain proposed amendments to each of the corresponding indentures governing the Existing Activision Blizzard Notes to eliminate certain of the covenants, restrictive provisions and events of default from such indentures. </span></p><p style='margin-left: 60px;' page_idx=1 class=\"cls_3 nlm_sent_24\">Each Exchange Offer and Consent Solicitation is conditioned upon the completion of the other Exchange Offers and Consent Solicitations, although Microsoft may waive such condition at any time with respect to an Exchange Offer.</p> <p style='margin-left: 60px;' page_idx=1 class=\"cls_3 nlm_block_17\"><span class=\"nlm_sent_25\">The New Microsoft Notes have not been registered with the Securities and Exchange Commission (the “SEC”) under the Securities Act of 1933, as amended (the “Securities Act”), or any state or foreign securities laws. </span><span class=\"nlm_sent_26\">Therefore, the New Microsoft Notes may not be offered or sold in the United States or to any U.S. person absent registration, except pursuant to an applicable exemption from, or in a transaction not subject to, the registration requirements of the Securities Act. </span></p><p style='margin-left: 60px;' page_idx=1 class=\"cls_3 nlm_sent_27\">The Exchange Offers and Consent Solicitations are being made pursuant to the terms and subject to the conditions set forth in the offering memorandum and consent solicitation statement dated as of October 16, 2023 (as it may be amended or supplemented, the “Offering Memorandum and Consent Solicitation Statement”). A copy of the press release announcing the Exchange Offers and the Consent Solicitations is furnished herewith as Exhibit 99.1 and is incorporated herein by reference.</p> <p style='margin-left: 60px;' page_idx=1 class=\"cls_3 nlm_block_19\"><span class=\"nlm_sent_28\">The information in this Item 8.01, as well as Exhibit 99.1 attached hereto, is being furnished, not filed. </span><span class=\"nlm_sent_29\">Accordingly, such information will not be incorporated by reference into any registration statement filed by Microsoft under the Securities Act, unless specifically identified as being incorporated by reference therein. </span></p><h4 style='margin-left: 20px;' page_idx=1 class=\"cls_1 nlm_sent_30\"> Cautionary Statement Regarding Forward-Looking Information </h4> <p style='margin-left: 40px;' page_idx=1 class=\"cls_3 nlm_block_20\"><span class=\"nlm_sent_31\">This communication includes forward-looking statements within the meaning of federal securities laws. </span><span class=\"nlm_sent_32\">All statements, other than statements of historical fact, included in this communication are forward-looking statements. </span><span class=\"nlm_sent_33\">Such forward-looking statements include, but are not limited to, statements about the timing of the Exchange Offers and Consent Solicitations. </span><span class=\"nlm_sent_34\">No assurances can be given that the forward-looking statements contained in this communication will occur as expected and actual results may differ materially from those included in this communication. </span><span class=\"nlm_sent_35\">Forward-looking statements are based on current expectations and assumptions that involve a number of risks and uncertainties that could cause actual results to differ materially from those included in this communication. </span><span class=\"nlm_sent_36\">Important risks, uncertainties and other factors are described in the Offering Memorandum and Consent Solicitation Statement, Microsoft’s Annual Report on Form 10-K for the fiscal year ended June 30, 2023, Current Reports on Form 8-K and other filings Microsoft makes with the SEC and in Activision Blizzard’s Annual Report on Form 10-K for the year ended December 31, 2022, Activision Blizzard’s Quarterly Reports on Form 10-Q for the quarterly periods ended March 31, 2023 and June 30, 2023, Current Reports on Form 8-K and other filings Activision Blizzard makes with the SEC. Forward-looking statements are based on the estimates and opinions of management at the time the statements are made. </span><span class=\"nlm_sent_37\">Except to the extent required by applicable law, neither Microsoft nor Activision Blizzard undertakes any obligation to publicly update or revise any forward-looking statement, whether as a result of new information, future events or otherwise. </span><span class=\"nlm_sent_38\">You are cautioned not to place undue reliance on these forward-looking statements that speak only as of the date hereof. </span></p><h7>---- 2 ----</h7><br /><div><button class=\"ant-btn\" button_type=\"approve-page\" id=\"1\" \">Approve Page 1 Above</button><button class=\"ant-btn\" button_type=\"flag-page\" id=\"1\">Flag Page 1</button><button class=\"ant-btn\" button_type=\"undo-page-approval\" id=\"1\">Undo Approval</button><button class=\"ant-btn\" button_type=\"undo-page-flag\" id=\"1\">Undo Flag</button></div><br /><h4 style='margin-left: 20px;' page_idx=2 class=\"cls_1 nlm_sent_39\"> No Offer or Solicitation </h4> <p style='margin-left: 40px;' page_idx=2 class=\"cls_3 nlm_block_21\"><span class=\"nlm_sent_40\">This communication is not intended to and shall not constitute an offer to sell or purchase, or a solicitation of an offer to sell or purchase, or the solicitation of tenders or consents with respect to, any security. </span><span class=\"nlm_sent_41\">No offer, solicitation, purchase or sale will be made in any jurisdiction in which such an offer, solicitation, or sale would be unlawful. </span><span class=\"nlm_sent_42\">The Exchange Offers and Consent Solicitations are being made to eligible holders solely pursuant to the Offering Memorandum and Consent Solicitation Statement and only to such persons and in such jurisdictions as is permitted under applicable law. </span></p><li style='margin-left: 20px;' page_idx=2 class=\"cls_1 nlm_sent_43\">Item 9.01</li><li style='margin-left: 20px;' page_idx=2 class=\"cls_1 nlm_sent_44\">Financial Statements and Exhibits.</li><h4 style='margin-left: 40px;' page_idx=2 class=\"cls_3 nlm_sent_45\"> (d) Exhibits. </h4><h4 style='margin-left: 60px;' page_idx=2 class=\"cls_1 nlm_sent_46\"> Exhibit No. Description </h4><li style='margin-left: 80px;' page_idx=2 class=\"cls_3 nlm_sent_47\">99.1 Joint Press Release, dated October 16, 2023 104 Cover Page Interactive Data File (formatted as Inline XBRL and contained in Exhibit 101)</li><h7>---- 3 ----</h7><br /><div><button class=\"ant-btn\" button_type=\"approve-page\" id=\"2\" \">Approve Page 2 Above</button><button class=\"ant-btn\" button_type=\"flag-page\" id=\"2\">Flag Page 2</button><button class=\"ant-btn\" button_type=\"undo-page-approval\" id=\"2\">Undo Approval</button><button class=\"ant-btn\" button_type=\"undo-page-flag\" id=\"2\">Undo Flag</button></div><br /><h4 style='margin-left: 0px;' page_idx=3 class=\"cls_1 nlm_sent_48\"> SIGNATURE </h4><p style='margin-left: 20px;' page_idx=3 class=\"cls_3 nlm_sent_49\">Pursuant to the requirements of the Securities Exchange Act of 1934, the Registrant has duly caused this report to be signed on its behalf by the undersigned thereunto duly authorized.</p><h4 style='margin-left: 0px;' page_idx=3 class=\"cls_3 nlm_sent_50\"> MICROSOFT CORPORATION </h4><h4 style='margin-left: 20px;' page_idx=3 class=\"cls_3 nlm_sent_51\"> By: /s/ Keith R. Dolliver Keith R. Dolliver Corporate Secretary </h4><h4 style='margin-left: 20px;' page_idx=3 class=\"cls_3 nlm_sent_52\"> Date: October 16, 2023 </h4><h7>---- 4 ----</h7><br /><div><button class=\"ant-btn\" button_type=\"approve-page\" id=\"3\" \">Approve Page 3 Above</button><button class=\"ant-btn\" button_type=\"flag-page\" id=\"3\">Flag Page 3</button><button class=\"ant-btn\" button_type=\"undo-page-approval\" id=\"3\">Undo Approval</button><button class=\"ant-btn\" button_type=\"undo-page-flag\" id=\"3\">Undo Flag</button></div><br /><p style='margin-left: 40px;' page_idx=4 class=\"cls_1 nlm_sent_53\">Exhibit 99.1</p><h4 style='margin-left: 0px;' page_idx=4 class=\"cls_1 nlm_sent_54\"> Microsoft Commences Private Exchange Offers and Activision Blizzard Commences Consent Solicitations </h4><p style='margin-left: 20px;' page_idx=4 class=\"cls_3 nlm_sent_55\">REDMOND, Wash. and SANTA MONICA, Calif. – October 16, 2023 – Microsoft Corporation (Nasdaq: MSFT) (“Microsoft”) and Activision Blizzard, Inc. (Nasdaq: ATVI) (“Activision Blizzard”) today announced that, in connection with the previously announced merger of Activision Blizzard with and into a wholly owned subsidiary of Microsoft (the “Merger”), with Activision Blizzard surviving the Merger as a wholly owned subsidiary of Microsoft, Microsoft has commenced offers to Eligible Holders (as defined herein) to exchange (each an “Exchange Offer” and collectively, the “Exchange Offers”) any and all outstanding notes issued by Activision Blizzard as set forth in the table below (the “Existing Activision Blizzard Notes”) for (1) up to $3,650,000,000 aggregate principal amount of new notes issued by Microsoft (the “New Microsoft Notes”) and (2) cash.</p><p style='margin-left: 20px;' page_idx=4 class=\"cls_3 nlm_sent_56\">The following table sets forth the Exchange Consideration and Total Exchange Consideration for each series of Existing Activision Blizzard Notes:</p><table style='margin-left: 40px;' page_idx=4 class=\"cls_6 nlm_sent_57\" page_idx=\"4\" top=\"182.73\" left=\"46.67\" name=\"Microsoft Commences Private Exchange Offers and Activision Blizzard Commences Consent Solicitations\"><tbody><tr style='margin-left: 40px;' page_idx=4 class=\"cls_6 nlm_sent_57\"><th style='margin-left: 40px;' page_idx=4>Title of Series</th><th style='margin-left: 40px;' page_idx=4>CUSIP Number</th><th style='margin-left: 40px;' page_idx=4>ISIN</th><th style='margin-left: 40px;' page_idx=4>Maturity Date</th><th style='margin-left: 40px;' page_idx=4>Aggregate Principal Amount Outstanding</th><th style='margin-left: 40px;' page_idx=4>Exchange Consideration(1)</th><th style='margin-left: 40px;' page_idx=4>Total Exchange Consideration(2)</th></tr><tr style='margin-left: 40px;' page_idx=4 class=\"cls_7 nlm_sent_58\"><td style='margin-left: 40px;' page_idx=4>3.400% Senior Notes due 2026</td><td style='margin-left: 40px;' page_idx=4>00507VAK5</td><td style='margin-left: 40px;' page_idx=4>US00507VAK52</td><td style='margin-left: 40px;' page_idx=4>September 15, 2026</td><td style='margin-left: 40px;' page_idx=4>$850,000,000</td><td style='margin-left: 40px;' page_idx=4>$970 principal amount of New Microsoft 3.400% Notes due 2026</td><td style='margin-left: 40px;' page_idx=4>$1,000 principal amount of New Microsoft 3.400% Notes due 2026 and $1.00 in cash</td></tr><tr style='margin-left: 40px;' page_idx=4 class=\"cls_7 nlm_sent_59\"><td style='margin-left: 40px;' page_idx=4>3.400% Senior Notes due 2027</td><td style='margin-left: 40px;' page_idx=4>00507VAM1</td><td style='margin-left: 40px;' page_idx=4>US00507VAM19</td><td style='margin-left: 40px;' page_idx=4>June 15, 2027</td><td style='margin-left: 40px;' page_idx=4>$400,000,000</td><td style='margin-left: 40px;' page_idx=4>$970 principal amount of New Microsoft 3.400% Notes due 2027</td><td style='margin-left: 40px;' page_idx=4>$1,000 principal amount of New Microsoft 3.400% Notes due 2027 and $1.00 in cash</td></tr><tr style='margin-left: 40px;' page_idx=4 class=\"cls_7 nlm_sent_60\"><td style='margin-left: 40px;' page_idx=4>1.350% Senior Notes due 2030</td><td style='margin-left: 40px;' page_idx=4>00507VAP4</td><td style='margin-left: 40px;' page_idx=4>US00507VAP40</td><td style='margin-left: 40px;' page_idx=4>September 15, 2030</td><td style='margin-left: 40px;' page_idx=4>$500,000,000</td><td style='margin-left: 40px;' page_idx=4>$970 principal amount of New Microsoft 1.350% Notes due 2030</td><td style='margin-left: 40px;' page_idx=4>$1,000 principal amount of New Microsoft 1.350% Notes due 2030 and $1.00 in cash</td></tr><tr style='margin-left: 40px;' page_idx=4 class=\"cls_7 nlm_sent_61\"><td style='margin-left: 40px;' page_idx=4>4.500% Senior Notes due 2047</td><td style='margin-left: 40px;' page_idx=4>00507VAN9</td><td style='margin-left: 40px;' page_idx=4>US00507VAN91</td><td style='margin-left: 40px;' page_idx=4>June 15, 2047</td><td style='margin-left: 40px;' page_idx=4>$400,000,000</td><td style='margin-left: 40px;' page_idx=4>$970 principal amount of New Microsoft 4.500% Notes due 2047</td><td style='margin-left: 40px;' page_idx=4>$1,000 principal amount of New Microsoft 4.500% Notes due 2047 and $1.00 in cash</td></tr><tr style='margin-left: 40px;' page_idx=4 class=\"cls_7 nlm_sent_62\"><td style='margin-left: 40px;' page_idx=4>2.500% Senior Notes due 2050</td><td style='margin-left: 40px;' page_idx=4>00507VAQ2</td><td style='margin-left: 40px;' page_idx=4>US00507VAQ23</td><td style='margin-left: 40px;' page_idx=4>September 15, 2050</td><td style='margin-left: 40px;' page_idx=4>$1,500,000,000</td><td style='margin-left: 40px;' page_idx=4>$970 principal amount of New Microsoft 2.500% Notes due 2050</td><td style='margin-left: 40px;' page_idx=4>$1,000 principal amount of New Microsoft 2.500% Notes due 2050 and $1.00 in cash</td></tr></tbody></table><br /><div><button class=\"ant-btn\" button_type=\"approve-table\">Approve Table Above</button><button class=\"ant-btn\" button_type=\"flag-table\">Flag Table Above</button><button class=\"ant-btn\" button_type=\"undo-table-approval\">Undo Approval</button><button class=\"ant-btn\" button_type=\"undo-table-flag\">Undo Flag</button></div><br /><h7>---- 5 ----</h7><br /><div><button class=\"ant-btn\" button_type=\"approve-page\" id=\"4\" \">Approve Page 4 Above</button><button class=\"ant-btn\" button_type=\"flag-page\" id=\"4\">Flag Page 4</button><button class=\"ant-btn\" button_type=\"undo-page-approval\" id=\"4\">Undo Approval</button><button class=\"ant-btn\" button_type=\"undo-page-flag\" id=\"4\">Undo Flag</button></div><br /><p style='margin-left: 20px;' page_idx=5 class=\"cls_3 nlm_sent_63\">For each $1,000 principal amount of Existing Activision Blizzard Notes validly tendered after the Early Tender Date (as defined herein) but at or before the Expiration Date (as defined herein), not validly withdrawn and accepted for exchange.</p><li style='margin-left: 40px;' page_idx=5 class=\"cls_3 nlm_sent_64\">(2) For each $1,000 principal amount of Existing Activision Blizzard Notes validly tendered at or before the Early Tender Date, not validly withdrawn and accepted for exchange.</li><p style='margin-left: 20px;' page_idx=5 class=\"cls_3 nlm_sent_65\">Concurrently with the Exchange Offers being made by Microsoft, Activision Blizzard is, upon Microsoft’s request, soliciting consents from Eligible Holders (each, a “Consent Solicitation” and, collectively, the “Consent Solicitations”) to adopt certain proposed amendments to each of the corresponding indentures governing the Existing Activision Blizzard Notes to eliminate certain of the covenants, restrictive provisions and events of default from such indentures (with respect to the corresponding indenture for such Existing Activision Blizzard Notes, the “Proposed Amendments”).</p> <p style='margin-left: 20px;' page_idx=5 class=\"cls_3 nlm_block_33\"><span class=\"nlm_sent_66\">Eligible Holders may deliver their consent to the Proposed Amendments only by tendering Existing Activision Blizzard Notes of the applicable series in the Exchange Offers and Consent Solicitations. </span><span class=\"nlm_sent_67\">Eligible Holders may not deliver a consent in a Consent Solicitation without tendering Existing Activision Blizzard Notes in the applicable Exchange Offer and Eligible Holders may not tender Existing Activision Blizzard Notes without also having been deemed to deliver a consent. </span></p> <p style='margin-left: 20px;' page_idx=5 class=\"cls_3 nlm_block_34\"><span class=\"nlm_sent_68\">The Exchange Offers and Consent Solicitations are being made pursuant to the terms and subject to the conditions set forth in the offering memorandum and consent solicitation statement dated as of October 16, 2023 (as it may be amended or supplemented, the “Offering Memorandum and Consent Solicitation Statement”). Microsoft, in its sole discretion, may terminate, withdraw, amend or extend any of the Exchange Offers, subject to the terms and conditions set forth in the Offering Memorandum and Consent Solicitation Statement. </span><span class=\"nlm_sent_69\">Any such termination, withdrawal, amendment or extension by Microsoft will automatically terminate, withdraw, amend or extend the corresponding Consent Solicitation, as applicable. </span></p><h7>---- 6 ----</h7><br /><div><button class=\"ant-btn\" button_type=\"approve-page\" id=\"5\" \">Approve Page 5 Above</button><button class=\"ant-btn\" button_type=\"flag-page\" id=\"5\">Flag Page 5</button><button class=\"ant-btn\" button_type=\"undo-page-approval\" id=\"5\">Undo Approval</button><button class=\"ant-btn\" button_type=\"undo-page-flag\" id=\"5\">Undo Flag</button></div><br /> <p style='margin-left: 20px;' page_idx=6 class=\"cls_3 nlm_block_35\"><span class=\"nlm_sent_70\">In addition, each Exchange Offer and Consent Solicitation is conditioned upon the completion of the other Exchange Offers and Consent Solicitations, although Microsoft may waive such condition at any time with respect to an Exchange Offer. </span><span class=\"nlm_sent_71\">Any waiver of a condition by Microsoft with respect to an Exchange Offer will automatically waive such condition with respect to the corresponding Consent Solicitation. </span></p> <p style='margin-left: 20px;' page_idx=6 class=\"cls_3 nlm_block_36\"><span class=\"nlm_sent_72\">Eligible Holders who validly tender (and do not validly withdraw) their Existing Activision Blizzard Notes at or before to 5:00 p.m., New York City time, on October 27, 2023, unless extended (the “Early Tender Date”), will be eligible to receive, on the applicable settlement date, the applicable Total Exchange Consideration as set forth in the table above for all such Existing Activision Blizzard Notes that are accepted. </span><span class=\"nlm_sent_73\">Eligible Holders who validly tender (and do not validly withdraw) their Existing Activision Blizzard Notes after the Early Tender Date but at or before 5:00 p.m., New York City time, on November 14, 2023, unless extended (the “Expiration Date”), will be eligible to receive, on the applicable settlement date, the applicable Exchange Consideration as set forth in the table above for all such Existing Activision Blizzard Notes that are accepted. </span><span class=\"nlm_sent_74\">The Early Settlement Date will be determined at Microsoft’s option and is currently expected to occur within six business days after the Early Tender Date. </span><span class=\"nlm_sent_75\">The Final Settlement Date will be promptly after the Expiration Date and is currently expected to occur within two business days after the Expiration Date. </span></p> <p style='margin-left: 20px;' page_idx=6 class=\"cls_3 nlm_block_37\"><span class=\"nlm_sent_76\">The Exchange Offers and Consent Solicitations will only be made, and documents relating to the Exchange Offers and Consent Solicitations will only be distributed, to holders of Existing Activision Blizzard Notes who complete and return an eligibility letter confirming that they are persons (a) in the United States who are reasonably believed to be “qualified institutional buyers” as defined in Rule 144A under the Securities Act of 1933, as amended (the “Securities Act”), or (b) that are outside the United States who are not “U.S. </span><span class=\"nlm_sent_77\">persons” as defined in Rule 902 under the Securities Act and who are eligible to participate in the Exchange Offer pursuant to the laws of the applicable jurisdiction, as set forth in the eligibility letter (“Eligible Holders”). </span></p><h7>---- 7 ----</h7><br /><div><button class=\"ant-btn\" button_type=\"approve-page\" id=\"6\" \">Approve Page 6 Above</button><button class=\"ant-btn\" button_type=\"flag-page\" id=\"6\">Flag Page 6</button><button class=\"ant-btn\" button_type=\"undo-page-approval\" id=\"6\">Undo Approval</button><button class=\"ant-btn\" button_type=\"undo-page-flag\" id=\"6\">Undo Flag</button></div><br /> <p style='margin-left: 20px;' page_idx=7 class=\"cls_3 nlm_block_38\"><span class=\"nlm_sent_78\">Eligible Holders of Existing Activision Blizzard Notes who are located in or a resident of Canada must also complete and return a Canadian supplemental eligibility letter to D.F. </span><span class=\"nlm_sent_79\">King & Co., Inc. (the “Information Agent” and the “Exchange Agent”) establishing its eligibility to participate in the Exchange Offers and providing supplemental information required for Canadian securities regulatory reporting purposes. </span><span class=\"nlm_sent_80\">Each holder of Existing Activision Blizzard Notes will, by participating in any Exchange Offer, be deemed to represent and warrant that it is not located in or a resident of any province or territory of Canada, and that it is not tendering any Existing Activision Blizzard Notes on behalf of a beneficial owner that is located in or a resident of Canada, unless either: (i) such holder has completed and returned a Canadian supplemental eligibility letter to the Information Agent, or (ii) such holder is an account manager outside Canada acting on behalf of a Canadian beneficial owner on a fully-discretionary basis, and no acts in furtherance of the exchange of such beneficial owner’s Existing Activision Blizzard Notes take place in Canada. </span></p> <p style='margin-left: 20px;' page_idx=7 class=\"cls_3 nlm_block_39\"><span class=\"nlm_sent_81\">The complete terms and conditions of the Exchange Offers and Consent Solicitations are described in the Offering Memorandum and Consent Solicitation Statement, a copy of which may be obtained by Eligible Holders by contacting D.F. </span><span class=\"nlm_sent_82\">King & Co., Inc., the Exchange Agent and Information Agent in connection with the Exchange Offers and Consent Solicitations, by sending an email to MSFT-ATVI@dfking.com or by calling (866) 227-7300 (U.S. toll-free) or (212) 269-5550 (banks and brokers). </span><span class=\"nlm_sent_83\">The eligibility letter is available electronically at: https://www.dfking.com/MSFT-ATVI. </span></p><h7>---- 8 ----</h7><br /><div><button class=\"ant-btn\" button_type=\"approve-page\" id=\"7\" \">Approve Page 7 Above</button><button class=\"ant-btn\" button_type=\"flag-page\" id=\"7\">Flag Page 7</button><button class=\"ant-btn\" button_type=\"undo-page-approval\" id=\"7\">Undo Approval</button><button class=\"ant-btn\" button_type=\"undo-page-flag\" id=\"7\">Undo Flag</button></div><br /> <p style='margin-left: 20px;' page_idx=8 class=\"cls_3 nlm_block_40\"><span class=\"nlm_sent_84\">This press release does not constitute an offer to sell or purchase, or a solicitation of an offer to sell or purchase, or the solicitation of tenders or consents with respect to, any security. </span><span class=\"nlm_sent_85\">This press release should not be construed as an offer to sell or purchase, or a solicitation of an offer to sell or purchase, or the solicitation of tenders or consents with respect to, any Microsoft securities or other securities by Activision Blizzard. </span><span class=\"nlm_sent_86\">No offer, solicitation, purchase or sale will be made in any jurisdiction in which such an offer, solicitation, or sale would be unlawful. </span><span class=\"nlm_sent_87\">The Exchange Offers and Consent Solicitations are being made to Eligible Holders solely pursuant to the Offering Memorandum and Consent Solicitation Statement and only to such persons and in such jurisdictions as is permitted under applicable law. </span></p> <p style='margin-left: 20px;' page_idx=8 class=\"cls_3 nlm_block_41\"><span class=\"nlm_sent_88\">The New Microsoft Notes have not been registered with the Securities and Exchange Commission (the “SEC”) under the Securities Act or any state or foreign securities laws. </span><span class=\"nlm_sent_89\">Therefore, the New Microsoft Notes may not be offered or sold in the United States or to any U.S. person absent registration, except pursuant to an applicable exemption from, or in a transaction not subject to, the registration requirements of the Securities Act. In connection with the Exchange Offers, Microsoft will enter into a registration rights agreement, pursuant to which Microsoft will be obligated to use commercially reasonable efforts to file with the SEC and cause to become effective a registration statement with respect to an offer to exchange each series of New Microsoft Notes for new notes within 450 days of the settlement date. </span><span class=\"nlm_sent_90\">In addition, Microsoft has agreed to use commercially reasonable efforts to file a shelf registration statement to cover resales of the New Microsoft Notes under the Securities Act in certain circumstances. </span></p><h7>---- 9 ----</h7><br /><div><button class=\"ant-btn\" button_type=\"approve-page\" id=\"8\" \">Approve Page 8 Above</button><button class=\"ant-btn\" button_type=\"flag-page\" id=\"8\">Flag Page 8</button><button class=\"ant-btn\" button_type=\"undo-page-approval\" id=\"8\">Undo Approval</button><button class=\"ant-btn\" button_type=\"undo-page-flag\" id=\"8\">Undo Flag</button></div><br /><h4 style='margin-left: 0px;' page_idx=9 class=\"cls_1 nlm_sent_91\"> About Microsoft </h4> <p style='margin-left: 20px;' page_idx=9 class=\"cls_3 nlm_block_42\"><span class=\"nlm_sent_92\">Microsoft enables digital transformation for the era of an intelligent cloud and an intelligent edge. </span><span class=\"nlm_sent_93\">Its mission is to empower every person and every organization on the planet to achieve more. </span></p><h4 style='margin-left: 0px;' page_idx=9 class=\"cls_1 nlm_sent_94\"> For More Information, Press Only: </h4><p style='margin-left: 20px;' page_idx=9 class=\"cls_3 nlm_sent_95\">Microsoft Media Relations, WE Communications for Microsoft, (425) 638-7777, rapidresponse@we-worldwide.com</p> <p style='margin-left: 20px;' page_idx=9 class=\"cls_3 nlm_block_44\"><span class=\"nlm_sent_96\">Note to editors: For more information, news and perspectives from Microsoft, please visit the Microsoft News Center at http://news.microsoft.com. </span><span class=\"nlm_sent_97\">Web links, telephone numbers and titles were correct at time of publication but may have changed. </span><span class=\"nlm_sent_98\">For additional assistance, journalists and analysts may contact Microsoft’s Rapid Response Team or other appropriate contacts listed at https://news.microsoft.com/microsoft-public- relations-contacts. </span></p><h4 style='margin-left: 0px;' page_idx=9 class=\"cls_1 nlm_sent_99\"> About Activision Blizzard </h4> <p style='margin-left: 20px;' page_idx=9 class=\"cls_3 nlm_block_45\"><span class=\"nlm_sent_100\">Activision Blizzard’s mission is to connect and engage the world through epic entertainment. </span><span class=\"nlm_sent_101\">Through communities rooted in Activision Blizzard’s video games, Activision Blizzard enables hundreds of millions of people to experience joy, thrill and achievement. </span></p><h4 style='margin-left: 0px;' page_idx=9 class=\"cls_1 nlm_sent_102\"> Cautionary Note Regarding Forward-looking Statements </h4> <p style='margin-left: 20px;' page_idx=9 class=\"cls_3 nlm_block_46\"><span class=\"nlm_sent_103\">This press release includes forward-looking statements within the meaning of federal securities laws. </span><span class=\"nlm_sent_104\">All statements, other than statements of historical fact, included in this press release are forward-looking statements. </span><span class=\"nlm_sent_105\">Such forward-looking statements include, but are not limited to, statements about the timing of the Exchange Offers and Consent Solicitations. </span><span class=\"nlm_sent_106\">No assurances can be given that the forward-looking statements contained in this press release will occur as expected and actual results may differ materially from those included in this press release. </span><span class=\"nlm_sent_107\">Forward-looking statements are based on current expectations and assumptions that involve a number of risks and uncertainties that could cause actual results to differ materially from those included in this press release. </span><span class=\"nlm_sent_108\">Important risks, uncertainties and other factors are described in the Offering Memorandum and Consent Solicitation Statement, Microsoft’s Annual Report on Form 10-K for the fiscal year ended June 30, 2023, Activision Blizzard’s Annual Report on Form 10-K for the fiscal year ended December 31, 2022, Activision Blizzard’s Quarterly Reports on Form 10-Q for the quarterly periods ended March 31, 2023 and June 30, 2023, and Current Reports on Form 8-K and other filings Microsoft and Activision Blizzard make with the SEC. Forward-looking statements are based on the estimates and opinions of management at the time the statements are made. </span><span class=\"nlm_sent_109\">Except to the extent required by applicable law, neither Microsoft nor Activision Blizzard undertakes any obligation to publicly update or revise any forward-looking statement, whether as a result of new information, future events or otherwise. </span><span class=\"nlm_sent_110\">You are cautioned not to place undue reliance on these forward-looking statements that speak only as of the date hereof. </span></p></html>"
      ],
      "text/plain": [
       "<IPython.core.display.HTML object>"
      ]
     },
     "metadata": {},
     "output_type": "display_data"
    }
   ],
   "source": [
    "soup = BeautifulSoup(str(parsed), \"html.parser\")\n",
    "pages = soup.find_all(\"div\", class_='page')\n",
    "ocr_page = soup.find_all('div', class_=\"ocr_page\", id='page_1')\n",
    "\n",
    "block_renderer.HTML_DEBUG = True\n",
    "visual_ingestor.LINE_DEBUG = False\n",
    "indent_parser.LEVEL_DEBUG = False\n",
    "indent_parser.NO_INDENT = False\n",
    "visual_ingestor.MIXED_FONT_DEBUG = False\n",
    "table_parser.TABLE_DEBUG = False\n",
    "visual_ingestor.BLOCK_DEBUG = False\n",
    "table_parser.TABLE_COL_DEBUG = False\n",
    "table_parser.TABLE_HG_DEBUG = False\n",
    "table_parser.TABLE_BOUNDS_DEBUG = False\n",
    "visual_ingestor.HF_DEBUG = False\n",
    "order_fixer.REORDER_DEBUG = False\n",
    "visual_ingestor.MERGE_DEBUG = False\n",
    "table_parser.TABLE_2_COL_DEBUG = False\n",
    "\n",
    "# you can also let the visual ingestor only parse select pages\n",
    "# but note that this will cause the document statistics to be incorrect\n",
    "# and behaviour may not be consistent with what you see when you parse more pages or the entire document\n",
    "\n",
    "# parsed_doc = visual_ingestor.Doc(pages[23:27], [])\n",
    "parsed_doc = visual_ingestor.Doc(pages, [])\n",
    "\n",
    "# optionally you can save the html in a file system and view it in a browser\n",
    "# html_loc = '/mnt/c/Users/ambik/Downloads/orig-small-html.html'\n",
    "# parsed_doc.html_str = parsed_doc.html_str.replace(\"\\xa0\", \" \")\n",
    "# f = open(html_loc, \"w\")\n",
    "# import html\n",
    "# f.write(parsed_doc.html_str)\n",
    "# f.close()\n",
    "display(HTML(parsed_doc.html_str)) "
   ]
  }
 ],
 "metadata": {
  "kernelspec": {
   "display_name": "Python 3 (ipykernel)",
   "language": "python",
   "name": "python3"
  },
  "language_info": {
   "codemirror_mode": {
    "name": "ipython",
    "version": 3
   },
   "file_extension": ".py",
   "mimetype": "text/x-python",
   "name": "python",
   "nbconvert_exporter": "python",
   "pygments_lexer": "ipython3",
   "version": "3.11.5"
  }
 },
 "nbformat": 4,
 "nbformat_minor": 5
}
