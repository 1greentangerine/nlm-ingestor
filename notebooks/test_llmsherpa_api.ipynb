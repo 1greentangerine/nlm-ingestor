{
 "cells": [
  {
   "cell_type": "markdown",
   "id": "81bab6ee-23ad-48bc-a363-1ad7d5bef433",
   "metadata": {},
   "source": [
    "This notebook helps test a local or pip installed copy of llmsherpa with the ingestor core code"
   ]
  },
  {
   "cell_type": "code",
   "execution_count": 29,
   "id": "903bcef2-c45f-44a3-8f57-d5114d4b45c0",
   "metadata": {},
   "outputs": [
    {
     "name": "stdout",
     "output_type": "stream",
     "text": [
      "Requirement already satisfied: llmsherpa in /Users/ambikasukla/projects/venvs/ingestor-test/lib/python3.11/site-packages (0.1.3)\n",
      "Requirement already satisfied: urllib3 in /Users/ambikasukla/projects/venvs/ingestor-test/lib/python3.11/site-packages (from llmsherpa) (1.26.18)\n",
      "\n",
      "\u001b[1m[\u001b[0m\u001b[34;49mnotice\u001b[0m\u001b[1;39;49m]\u001b[0m\u001b[39;49m A new release of pip is available: \u001b[0m\u001b[31;49m23.2.1\u001b[0m\u001b[39;49m -> \u001b[0m\u001b[32;49m23.3.2\u001b[0m\n",
      "\u001b[1m[\u001b[0m\u001b[34;49mnotice\u001b[0m\u001b[1;39;49m]\u001b[0m\u001b[39;49m To update, run: \u001b[0m\u001b[32;49mpip install --upgrade pip\u001b[0m\n"
     ]
    }
   ],
   "source": [
    "!pip install llmsherpa"
   ]
  },
  {
   "cell_type": "code",
   "execution_count": null,
   "id": "ad949323-cf42-498c-8199-690e77137548",
   "metadata": {},
   "outputs": [],
   "source": []
  },
  {
   "cell_type": "code",
   "execution_count": 27,
   "id": "d765b72f-5d58-4343-9f48-432acb31b7d6",
   "metadata": {},
   "outputs": [
    {
     "name": "stderr",
     "output_type": "stream",
     "text": [
      "/var/folders/10/036rtqts0zv6b9spnjgkl1hh0000gn/T/ipykernel_74969/2792954116.py:2: DeprecationWarning: Importing display from IPython.core.display is deprecated since IPython 7.14, please import from IPython display\n",
      "  from IPython.core.display import display, HTML\n"
     ]
    }
   ],
   "source": [
    "from llmsherpa.readers import LayoutPDFReader\n",
    "from IPython.core.display import display, HTML\n",
    "# llmsherpa_api_url = \"https://readers.llmsherpa.com/api/document/developer/parseDocument?renderFormat=all\"\n",
    "llmsherpa_api_url = \"http://localhost:5001/api/parseDocument?renderFormat=all\"\n",
    "# pdf_url = \"https://arxiv.org/pdf/1910.13461.pdf\" # also allowed is a file path e.g. /home/downloads/xyz.pdf\n",
    "# pdf_url = \"https://www.apache.org/licenses/LICENSE-2.0.txt\"\n",
    "# pdf_url = \"https://microsoft.gcs-web.com/static-files/931d7780-ccfc-47e3-97ad-09d87e12b795\"\n",
    "# pdf_url = \"https://podcasts.ceu.edu/sites/podcasts.ceu.edu/files/sample.doc\"\n",
    "pdf_url = \"/Users/ambikasukla/projects/data/Kubernetes.docx\"\n",
    "# pdf_url = \"https://en.wikipedia.org/wiki/Language_model\"\n",
    "# pdf_url = \"https://raw.githubusercontent.com/nlmatics/llmsherpa/main/README.md\"\n",
    "# pdf_url = \"https://eutils.ncbi.nlm.nih.gov/entrez/eutils/esummary.fcgi?db=pubmed&id=35362092&retmode=xml\"\n",
    "pdf_reader = LayoutPDFReader(llmsherpa_api_url)\n",
    "doc = pdf_reader.read_pdf(pdf_url)"
   ]
  },
  {
   "cell_type": "code",
   "execution_count": 28,
   "id": "274fc39e-a574-4312-9d44-53b7758fa961",
   "metadata": {},
   "outputs": [
    {
     "data": {
      "text/html": [
       "<h1>NLMatics Kubernetes Cluster</h1><h2>1. Connect to the cluster.</h2><p>e.g.\n",
       "to connect to LLMSherpa AKS.</p><p>2. List the pods</p><p>3. Log tailing for a specific pod</p><h2>4. Certificate Renewal</h2><p>· Delete the certificate.</p><p>· Delete the secret associated with the certificate.</p><p>· Restart the ingress-nginx-controller.</p><p>$ kubectl delete certificate tls-secret; kubectl delete secret tls-secret</p><p>Find the ingress-nginx-controller deployment file.</p><p>Edit the deployment file.</p><p>Modify the “replicas” to “0”.\n",
       "Save and quit.</p><p>After 5 seconds, re-edit the file and modify the “replicas” back to 1.\n",
       "Wait for ~30 seconds and the new certificate will be applied.</p>"
      ],
      "text/plain": [
       "<IPython.core.display.HTML object>"
      ]
     },
     "execution_count": 28,
     "metadata": {},
     "output_type": "execute_result"
    }
   ],
   "source": [
    "HTML(doc.sections()[0].to_html(include_children=True, recurse=True))"
   ]
  }
 ],
 "metadata": {
  "kernelspec": {
   "display_name": "Python 3 (ipykernel)",
   "language": "python",
   "name": "python3"
  },
  "language_info": {
   "codemirror_mode": {
    "name": "ipython",
    "version": 3
   },
   "file_extension": ".py",
   "mimetype": "text/x-python",
   "name": "python",
   "nbconvert_exporter": "python",
   "pygments_lexer": "ipython3",
   "version": "3.11.5"
  }
 },
 "nbformat": 4,
 "nbformat_minor": 5
}
