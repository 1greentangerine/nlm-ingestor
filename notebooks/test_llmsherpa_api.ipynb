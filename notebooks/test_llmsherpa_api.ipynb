{
 "cells": [
  {
   "cell_type": "markdown",
   "id": "81bab6ee-23ad-48bc-a363-1ad7d5bef433",
   "metadata": {},
   "source": [
    "This notebook helps test a local or pip installed copy of llmsherpa with the ingestor core code"
   ]
  },
  {
   "cell_type": "code",
   "execution_count": 29,
   "id": "903bcef2-c45f-44a3-8f57-d5114d4b45c0",
   "metadata": {},
   "outputs": [
    {
     "name": "stdout",
     "output_type": "stream",
     "text": [
      "Requirement already satisfied: llmsherpa in /Users/ambikasukla/projects/venvs/ingestor-test/lib/python3.11/site-packages (0.1.3)\n",
      "Requirement already satisfied: urllib3 in /Users/ambikasukla/projects/venvs/ingestor-test/lib/python3.11/site-packages (from llmsherpa) (1.26.18)\n",
      "\n",
      "\u001b[1m[\u001b[0m\u001b[34;49mnotice\u001b[0m\u001b[1;39;49m]\u001b[0m\u001b[39;49m A new release of pip is available: \u001b[0m\u001b[31;49m23.2.1\u001b[0m\u001b[39;49m -> \u001b[0m\u001b[32;49m23.3.2\u001b[0m\n",
      "\u001b[1m[\u001b[0m\u001b[34;49mnotice\u001b[0m\u001b[1;39;49m]\u001b[0m\u001b[39;49m To update, run: \u001b[0m\u001b[32;49mpip install --upgrade pip\u001b[0m\n"
     ]
    }
   ],
   "source": [
    "!pip install llmsherpa"
   ]
  },
  {
   "cell_type": "code",
   "execution_count": null,
   "id": "ad949323-cf42-498c-8199-690e77137548",
   "metadata": {},
   "outputs": [],
   "source": []
  },
  {
   "cell_type": "code",
   "execution_count": 119,
   "id": "d765b72f-5d58-4343-9f48-432acb31b7d6",
   "metadata": {},
   "outputs": [
    {
     "name": "stderr",
     "output_type": "stream",
     "text": [
      "/var/folders/10/036rtqts0zv6b9spnjgkl1hh0000gn/T/ipykernel_74969/3404817863.py:2: DeprecationWarning: Importing display from IPython.core.display is deprecated since IPython 7.14, please import from IPython display\n",
      "  from IPython.core.display import display, HTML\n"
     ]
    }
   ],
   "source": [
    "from llmsherpa.readers import LayoutPDFReader\n",
    "from IPython.core.display import display, HTML\n",
    "# llmsherpa_api_url = \"https://readers.llmsherpa.com/api/document/developer/parseDocument?renderFormat=all\"\n",
    "llmsherpa_api_url = \"http://localhost:5001/api/parseDocument?renderFormat=all&useNewIndentParser=true\"\n",
    "pdf_url = \"https://arxiv.org/pdf/1910.13461.pdf\" # also allowed is a file path e.g. /home/downloads/xyz.pdf\n",
    "# pdf_url = \"https://www.apache.org/licenses/LICENSE-2.0.txt\"\n",
    "# pdf_url = \"https://microsoft.gcs-web.com/static-files/931d7780-ccfc-47e3-97ad-09d87e12b795\"\n",
    "# pdf_url = \"https://podcasts.ceu.edu/sites/podcasts.ceu.edu/files/sample.doc\"\n",
    "# pdf_url = \"/Users/ambikasukla/projects/data/Kubernetes.docx\"\n",
    "# pdf_url = \"https://en.wikipedia.org/wiki/Language_model\"\n",
    "# pdf_url = \"https://raw.githubusercontent.com/nlmatics/llmsherpa/main/README.md\"\n",
    "# pdf_url = \"https://eutils.ncbi.nlm.nih.gov/entrez/eutils/esummary.fcgi?db=pubmed&id=35362092&retmode=xml\"\n",
    "# pdf_url = \"https://solutions.weblite.ca/pdfocrx/scansmpl.pdf\"\n",
    "do_ocr = True\n",
    "if do_ocr:\n",
    "    llmsherpa_api_url = llmsherpa_api_url + \"&applyOcr=yes\"\n",
    "pdf_reader = LayoutPDFReader(llmsherpa_api_url)\n",
    "doc = pdf_reader.read_pdf(pdf_url)"
   ]
  },
  {
   "cell_type": "code",
   "execution_count": 120,
   "id": "274fc39e-a574-4312-9d44-53b7758fa961",
   "metadata": {},
   "outputs": [
    {
     "data": {
      "text/html": [
       "<h1>BART: Denoising Sequence-to-Sequence Pre-training for Natural Language Generation, Translation, and Comprehension</h1><p>Mike Lewis*, Yinhan Liu*, Naman Goyal*, Marjan Ghazvininejad, Abdelrahman Mohamed, Omer Levy, Ves Stoyanov, Luke Zettlemoyer Facebook AI</p><h2>{mikelewis,yinhanliu,naman}@fb.com</h2><h3>Abstract</h3><p>We present BART, a denoising autoencoder for pretraining sequence-to-sequence models.\n",
       "BART is trained by (1) corrupting text with an arbitrary noising function, and (2) learning a model to reconstruct the original text.\n",
       "It uses a standard Tranformer-based neural machine translation architecture which, despite its simplicity, can be seen as generalizing BERT (due to the bidirectional encoder), GPT (with the left-to-right decoder), and many other more recent pretraining schemes.\n",
       "We evaluate a number of noising approaches, ﬁnding the best performance by both randomly shufﬂing the order of the original sentences and using a novel in-ﬁlling scheme, where spans of text are replaced with a single mask token.\n",
       "BART is particularly effective when ﬁne tuned for text generation but also works well for comprehension tasks.\n",
       "It matches the performance of RoBERTa with comparable training resources on GLUE and SQuAD, achieves new stateof-the-art results on a range of abstractive dialogue, question answering, and summarization tasks, with gains of up to 6 ROUGE.\n",
       "BART also provides a 1.1 BLEU increase over a back-translation system for machine translation, with only target language pretraining.\n",
       "We also report ablation experiments that replicate other pretraining schemes within the BART framework, to better measure which factors most inﬂuence end-task performance.</p><h3>1 Introduction</h3><p>methods have achieved remarkable success in a wide range of NLP tasks (Mikolov et al., 2013; Peters et al., 2018; Devlin et al., 2019; Joshi et al., 2019; Yang et al., 2019; Liu et al., 2019).\n",
       "The most successful approaches have been variants of masked language models, which are denoising autoencoders that are trained to reconstruct text where a random subset of the words has been masked out.\n",
       "Recent work has shown gains by improving the distribution of masked tokens (Joshi et al., 2019), the order in which masked tokens are predicted (Yang et al., 2019), and the available context for replacing masked tokens (Dong et al., 2019).\n",
       "However, these methods typically focus on particular types of end tasks (e.g. span prediction, generation, etc.), limiting their applicability.</p><p>In this paper, we present BART, which pre-trains a model combining Bidirectional and Auto-Regressive Transformers.\n",
       "BART is a denoising autoencoder built with a sequence-to-sequence model that is applicable to a very wide range of end tasks.\n",
       "Pretraining has two stages (1) text is corrupted with an arbitrary noising function, and (2) a sequence-to-sequence model is learned to reconstruct the original text.\n",
       "BART uses a standard Tranformer-based neural machine translation architecture which, despite its simplicity, can be seen as generalizing BERT (due to the bidirectional encoder), GPT (with the left-to-right decoder), and many other more recent pretraining schemes (see Figure 1).</p><p>A key advantage of this setup is the noising ﬂexibility; arbitrary transformations can be applied to the original text, including changing its length.\n",
       "We evaluate a number of noising approaches, ﬁnding the best performance by both randomly shufﬂing the order of the original sentences and using a novel in-ﬁlling scheme, where arbitrary length spans of text (including zero length) are replaced with a single mask token.\n",
       "This approach generalizes the original word masking and next sentence prediction objectives in BERT by forcing the model to reason more about overall sentence length and make longer range transformations to the input.</p><p>BART is particularly effective when ﬁne tuned for text generation but also works well for comprehension tasks.\n",
       "It matches the performance of RoBERTa (Liu et al., 2019) with comparable training resources on GLUE (Wang et al., 2018) and SQuAD (Rajpurkar et al., 2016), and achieves new state-of-the-art results on a range of abstractive dialogue, question answering, and summarization tasks.\n",
       "For example, it improves performance by 6 ROUGE over previous work on XSum (Narayan et al., 2018).</p><p>BART also opens up new ways of thinking about ﬁne tuning.\n",
       "We present a new scheme for machine translation where a BART model is stacked above a few additional transformer layers.\n",
       "These layers are trained to essentially translate the foreign language to noised</p><h4>B D A B C D E</h4><p>Autoregressive Decoder</p><h4>Bidirectional Encoder</h4><h5>A _ C _ E</h5><h6><s> A B C D</h6><li>(a) BERT: Random tokens are replaced with masks, and the document is encoded bidirectionally.\n",
       "Missing tokens are predicted independently, so BERT cannot easily be (b) GPT: Tokens are predicted auto-regressively, meaning GPT can be used for generation.\n",
       "However words can only condition on leftward context, so it cannot learn bidirec- tional interactions.</li><p>used for generation.</p><h7>A B C D E</h7><table><tr><td colSpan=1>Bidirectional Encoder</td><td colSpan=1>Autoregressive Decoder</td></tr><tr><td>A _ B _ E <s> A B C D</td></tr></table><li>(c) BART: Inputs to the encoder need not be aligned with decoder outputs, allowing arbitary noise transformations.\n",
       "Here, a document has been corrupted by replacing spans of text with mask symbols.\n",
       "The corrupted document (left) is encoded with a bidirectional model, and then the likelihood of the original document (right) is calculated with an autoregressive decoder.\n",
       "For ﬁne-tuning, an uncorrupted document is input to both the encoder and decoder, and we use representations from the ﬁnal hidden state of the decoder.</li><p>Figure 1: A schematic comparison of BART with BERT (Devlin et al., 2019) and GPT (Radford et al., 2018).</p><p>English, by propagation through BART, thereby using BART as a pre-trained target-side language model.\n",
       "This approach improves performance over a strong back-translation MT baseline by 1.1 BLEU on the WMT Romanian-English benchmark.</p><p>To better understand these effects, we also report an ablation analysis that replicates other recently proposed training objectives.\n",
       "This study allows us to carefully control for a number of factors, including data and optimization parameters, which have been shown to be as important for overall performance as the selection of training objectives (Liu et al., 2019).\n",
       "We ﬁnd that BART exhibits the most consistently strong performance across the full range of tasks we consider.</p><h3>2 Model</h3><p>is a denoising autoencoder that maps a corrupted document to the original document it was derived from.\n",
       "It is implemented as a sequence-to-sequence model with a bidirectional encoder over corrupted text and a left-to-right autoregressive decoder.\n",
       "For pre-training, we optimize the negative log likelihood of the original document.</p><h4>2.1 Architecture</h4><p>BART uses the standard sequence-to-sequence Transformer architecture from (Vaswani et al., 2017), except, following GPT, that we modify ReLU activation functions to GeLUs (Hendrycks & Gimpel, 2016) and initialise parameters from N (0, 0.02).\n",
       "For our base model, we use 6 layers in the encoder and de- coder, and for our large model we use 12 layers in each.\n",
       "The architecture is closely related to that used in BERT, with the following differences: (1) each layer of the decoder additionally performs cross-attention over the ﬁnal hidden layer of the encoder (as in the transformer sequence-to-sequence model); and (2) BERT uses an additional feed-forward network before wordprediction, which BART does not.\n",
       "In total, BART contains roughly 10% more parameters than the equivalently sized BERT model.</p><h4>2.2 Pre-training BART</h4><p>BART is trained by corrupting documents and then optimizing a reconstruction loss—the cross-entropy between the decoder’s output and the original document.\n",
       "Unlike existing denoising autoencoders, which are tailored to speciﬁc noising schemes, BART allows us to apply any type of document corruption.\n",
       "In the extreme case, where all information about the source is lost, BART is equivalent to a language model.</p><p>We experiment with several previously proposed and novel transformations, but we believe there is a signiﬁcant potential for development of other new alternatives.\n",
       "The transformations we used are summarized below, and examples are shown in Figure 2.</p><p>Token Masking Following BERT (Devlin et al., 2019), random tokens are sampled and replaced with [MASK] elements.</p><p>Token Deletion Random tokens are deleted from the input.\n",
       "In contrast to token masking, the model must decide which positions are missing inputs.</p><table><th><td colSpan=1>A _C . _ E .</td><td colSpan=1>D E . A B C .</td><td colSpan=1>C . D E . A B</td></th><tr><td colSpan=1></td><td colSpan=1>Sentence Permutation</td><td colSpan=1>Document RotationToken Masking</td></tr><tr><td colSpan=1></td><td colSpan=1>A B C . D E .A . C . E .</td><td colSpan=1>A _ . D _ E .</td></tr></table><h4>Token Deletion Text Inﬁlling</h4><p>Figure 2: Transformations for noising the input that we experiment with.\n",
       "These transformations can be composed.</p><p>Text Inﬁlling A number of text spans are sampled, with span lengths drawn from a Poisson distribution (λ = 3).\n",
       "Each span is replaced with a single [MASK] token.\n",
       "0-length spans correspond to the insertion of [MASK] tokens.\n",
       "Text inﬁlling is inspired by SpanBERT (Joshi et al., 2019), but SpanBERT samples span lengths from a different (clamped geometric) distribution, and replaces each span with a sequence of [MASK] tokens of exactly the same length.\n",
       "Text inﬁlling teaches the model to predict how many tokens are missing from a span.</p><p>Sentence Permutation A document is divided into sentences based on full stops, and these sentences are shufﬂed in a random order.</p><p>Document Rotation A token is chosen uniformly at random, and the document is rotated so that it begins with that token.\n",
       "This task trains the model to identify the start of the document.</p><h3>3 Fine-tuning BART</h3><p>The representations produced by BART can be used in several ways for downstream applications.</p><h4>3.1 Sequence Classiﬁcation Tasks</h4><p>For sequence classiﬁcation tasks, the same input is fed into the encoder and decoder, and the ﬁnal hidden state of the ﬁnal decoder token is fed into new multi-class linear classiﬁer.\n",
       "This approach is related to the CLS token in BERT; however we add the additional token to the end so that representation for the token in the decoder can attend to decoder states from the complete input (Figure 3a).</p><h4>3.2 Token Classiﬁcation Tasks</h4><p>For token classiﬁcation tasks, such as answer endpoint classiﬁcation for SQuAD, we feed the complete document into the encoder and decoder, and use the top hidden state of the decoder as a representation for each word.\n",
       "This representation is used to classify the token.</p><h4>3.3 Sequence Generation Tasks</h4><p>Because BART has an autoregressive decoder, it can be directly ﬁne tuned for sequence generation tasks such as abstractive question answering and summarization.\n",
       "In both of these tasks, information is copied from the input but manipulated, which is closely related to the denoising pre-training objective.\n",
       "Here, the encoder input is the input sequence, and the decoder generates outputs autoregressively.</p><h4>3.4 Machine Translation</h4><p>We also explore using BART to improve machine translation decoders for translating into English.\n",
       "Previous work Edunov et al.\n",
       "(2019) has shown that models can be improved by incorporating pre-trained encoders, but gains from using pre-trained language models in decoders have been limited.\n",
       "We show that it is possible to use the entire BART model (both encoder and decoder) as a single pretrained decoder for machine translation, by adding a new set of encoder parameters that are learned from bitext (see Figure 3b).</p><p>More precisely, we replace BART’s encoder embedding layer with a new randomly initialized encoder.\n",
       "The model is trained end-to-end, which trains the new encoder to map foreign words into an input that BART can de-noise to English.\n",
       "The new encoder can use a separate vocabulary from the original BART model.</p><p>We train the source encoder in two steps, in both cases backpropagating the cross-entropy loss from the output of the BART model.\n",
       "In the ﬁrst step, we freeze most of BART parameters and only update the randomly initialized source encoder, the BART positional embeddings, and the self-attention input projection matrix of BART’s encoder ﬁrst layer.\n",
       "In the second step, we train all model parameters for a small number of iterations.</p><h3>4 Comparing Pre-training Objectives</h3><p>BART supports a much wider range of noising schemes during pre-training than previous work.\n",
       "We compare a range of options using base-size models (6 encoder and 6 decoder layers, with a hidden size of 768), evaluated on a representative subset of the tasks we will consider for the full large scale experiments in §5.</p><h4>4.1 Comparison Objectives</h4><p>While many pre-training objectives have been proposed, fair comparisons between these have been difﬁcult to perform, at least in part due to differences in training data, training resources, architectural differences between models, and ﬁne-tuning procedures.\n",
       "We</p><p>A\n",
       "B\n",
       "C\n",
       "D E</p><h4>label</h4><table><th><td colSpan=1>Pre-trained Encoder</td><td colSpan=1>Pre-trained Decoder</td></th><tr><td colSpan=1>Pre-trained Encoder</td><td colSpan=1>Pre-trained Decoder</td></tr></table><table><th><td colSpan=1><s> A</td><td colSpan=1>B</td><td colSpan=1>C</td><td colSpan=1>D</td></th><tr><td>Randomly Initialized Encoder</td></tr></table><h4>A B C D E <s> A B C D E</h4><p>α\n",
       "β\n",
       "γ\n",
       "δ ε</p><li>(a) To use BART for classiﬁcation problems, the same input is fed into the encoder and decoder, and the repre- sentation from the ﬁnal output is used.\n",
       "(b) For machine translation, we learn a small additional encoder that replaces the word embeddings in BART.\n",
       "The new encoder can use a disjoint vocabulary.</li><p>Figure 3: Fine tuning BART for classiﬁcation and translation.</p><p>re-implement strong pre-training approaches recently proposed for discriminative and generation tasks.\n",
       "We aim, as much as possible, to control for differences unrelated to the pre-training objective.\n",
       "However, we do make minor changes to the learning rate and usage of layer normalisation in order to improve performance (tuning these separately for each objective).\n",
       "For reference, we compare our implementations with published numbers from BERT, which was also trained for 1M steps on a combination of books and Wikipedia data.\n",
       "We compare the following approaches:</p><p>Language Model Similarly to GPT (Radford et al., 2018), we train a left-to-right Transformer language model.\n",
       "This model is equivalent to the BART decoder, without cross-attention.</p><p>Permuted Language Model Based on XLNet (Yang et al., 2019), we sample 1/6 of the tokens, and generate them in a random order autoregressively.\n",
       "For consistency with other models, we do not implement the relative positional embeddings or attention across segments from XLNet.</p><p>Masked Language Model Following BERT (Devlin et al., 2019), we replace 15% of tokens with [MASK] symbols, and train the model to independently predict the original tokens.</p><p>Multitask Masked Language Model As in UniLM (Dong et al., 2019), we train a Masked Language Model with additional self-attention masks.\n",
       "Self attention masks are chosen randomly in with the follow proportions: 1/6 left-to-right, 1/6 right-to-left, 1/3 unmasked, and 1/3 with the ﬁrst 50% of tokens unmasked and a left-to-right mask for the remainder.</p><p>Masked Seq-to-Seq Inspired by MASS (Song et al., 2019), we mask a span containing 50% of tokens, and train a sequence to sequence model to predict the masked tokens.</p><p>For the Permuted LM, Masked LM and Multitask Masked LM, we use two-stream attention (Yang et al., 2019) to efﬁciently compute likelihoods of the output part of the sequence (using a diagonal self-attention mask on the output to predict words left-to-right).</p><p>We experiment with (1) treating the task as a standard sequence-to-sequence problem, where the source input to the encoder and the target is the decoder output, or (2) adding the source as preﬁx to the target in the decoder, with a loss only on the target part of the sequence.\n",
       "We ﬁnd the former works better for BART models, and the latter for other models.</p><p>To most directly compare our models on their ability to model their ﬁne-tuning objective (the log likelihood of the human text), we report perplexity in Table 1.</p><h4>4.2 Tasks</h4><p>SQuAD (Rajpurkar et al., 2016)a an extractive question answering task on Wikipedia paragraphs.\n",
       "Answers are text spans extracted from a given document context.\n",
       "Similar to BERT (Devlin et al., 2019), we use concatenated question and context as input to the encoder of BART, and additionally pass them to the decoder.\n",
       "The model includes classiﬁers to predict the start and end indices of each token.</p><p>MNLI (Williams et al., 2017), a bitext classiﬁcation task to predict whether one sentence entails another.\n",
       "The ﬁne-tuned model concatenates the two sentences with appended an EOS token, and passes them to both the BART encoder and decoder.\n",
       "In contrast to BERT, the representation of the EOS token is used to classify the sentences relations.</p><p>ELI5 (Fan et al., 2019), a long-form abstractive question answering dataset.\n",
       "Models generate answers conditioned on the concatenation of a question and supporting documents.</p><p>XSum (Narayan et al., 2018), a news summarization dataset with highly abstractive summaries.</p><p>ConvAI2 (Dinan et al., 2019), a dialogue response generation task, conditioned on context and a persona.</p><p>CNN/DM (Hermann et al., 2015), a news summarization dataset.\n",
       "Summaries here are typically closely related to source sentences.</p><h4>4.3 Results</h4><p>Results are shown in Table 1.\n",
       "Several trends are clear:</p><table><th><td colSpan=1>Model</td><td colSpan=1>SQuAD 1.1</td><td colSpan=1>MNLI</td><td colSpan=1>ELI5</td><td colSpan=1>XSum</td><td colSpan=1>ConvAI2</td><td colSpan=1>CNN/DM</td></th><tr><td>F1 Acc PPL PPL PPL PPL</td></tr><tr><td colSpan=1>BERT Base (Devlin et al., 2019)</td><td colSpan=1>88.5</td><td colSpan=1>84.3</td><td colSpan=1>-</td><td colSpan=1>-</td><td colSpan=1>-</td><td colSpan=1>-</td></tr><tr><td colSpan=1>Masked Language Model</td><td colSpan=1>90.0</td><td colSpan=1>83.5</td><td colSpan=1>24.77</td><td colSpan=1>7.87</td><td colSpan=1>12.59</td><td colSpan=1>7.06</td></tr><tr><td colSpan=1>Masked Seq2seq</td><td colSpan=1>87.0</td><td colSpan=1>82.1</td><td colSpan=1>23.40</td><td colSpan=1>6.80</td><td colSpan=1>11.43</td><td colSpan=1>6.19</td></tr><tr><td colSpan=1>Language Model</td><td colSpan=1>76.7</td><td colSpan=1>80.1</td><td colSpan=1>21.40</td><td colSpan=1>7.00</td><td colSpan=1>11.51</td><td colSpan=1>6.56</td></tr><tr><td colSpan=1>Permuted Language Model</td><td colSpan=1>89.1</td><td colSpan=1>83.7</td><td colSpan=1>24.03</td><td colSpan=1>7.69</td><td colSpan=1>12.23</td><td colSpan=1>6.96</td></tr><tr><td colSpan=1>Multitask Masked Language Model</td><td colSpan=1>89.2</td><td colSpan=1>82.4</td><td colSpan=1>23.73</td><td colSpan=1>7.50</td><td colSpan=1>12.39</td><td colSpan=1>6.74</td></tr><tr><td colSpan=1>BART Base w/ Token Masking</td><td colSpan=1>90.4</td><td colSpan=1>84.1</td><td colSpan=1>25.05</td><td colSpan=1>7.08</td><td colSpan=1>11.73</td><td colSpan=1>6.10</td></tr><tr><td colSpan=1>w/ Token Deletion</td><td colSpan=1>90.4</td><td colSpan=1>84.1</td><td colSpan=1>24.61</td><td colSpan=1>6.90</td><td colSpan=1>11.46</td><td colSpan=1>5.87</td></tr><tr><td colSpan=1>w/ Text Inﬁlling</td><td colSpan=1>90.8</td><td colSpan=1>84.0</td><td colSpan=1>24.26</td><td colSpan=1>6.61</td><td colSpan=1>11.05</td><td colSpan=1>5.83</td></tr><tr><td colSpan=1>w/ Document Rotation</td><td colSpan=1>77.2</td><td colSpan=1>75.3</td><td colSpan=1>53.69</td><td colSpan=1>17.14</td><td colSpan=1>19.87</td><td colSpan=1>10.59</td></tr><tr><td colSpan=1>w/ Sentence Shufﬂing</td><td colSpan=1>85.4</td><td colSpan=1>81.5</td><td colSpan=1>41.87</td><td colSpan=1>10.93</td><td colSpan=1>16.67</td><td colSpan=1>7.89</td></tr><tr><td colSpan=1>w/ Text Inﬁlling + Sentence Shufﬂing</td><td colSpan=1>90.8</td><td colSpan=1>83.8</td><td colSpan=1>24.17</td><td colSpan=1>6.62</td><td colSpan=1>11.12</td><td colSpan=1>5.41</td></tr></table><p>Table 1: Comparison of pre-training objectives.\n",
       "All models are of comparable size and are trained for 1M steps on a combination of books and Wikipedia data.\n",
       "Entries in the bottom two blocks are trained on identical data using the same code-base, and ﬁne-tuned with the same procedures.\n",
       "Entries in the second block are inspired by pre-training objectives proposed in previous work, but have been simpliﬁed to focus on evaluation objectives (see §4.1).\n",
       "Performance varies considerably across tasks, but the BART models with text inﬁlling demonstrate the most consistently strong performance.</p><p>Performance of pre-training methods varies signiﬁcantly across tasks The effectiveness of pre-training methods is highly dependent on the task.\n",
       "For example, a simple language model achieves the best ELI5 performance, but the worst SQUAD results.</p><p>Token masking is crucial Pre-training objectives based on rotating documents or permuting sentences perform poorly in isolation.\n",
       "The successful methods either use token deletion or masking, or self-attention masks.\n",
       "Deletion appears to outperform masking on generation tasks.</p><p>Left-to-right pre-training improves generation The Masked Language Model and the Permuted Language Model perform less well than others on generation, and are the only models we consider that do not include left-to-right auto-regressive language modelling during pre-training.</p><p>Bidirectional encoders are crucial for SQuAD As noted in previous work (Devlin et al., 2019), just left-to-right decoder performs poorly on SQuAD, because future context is crucial in classiﬁcation decisions.\n",
       "However, BART achieves similar performance with only half the number of bidirectional layers.</p><p>The pre-training objective is not the only important factor Our Permuted Language Model performs less well than XLNet (Yang et al., 2019).\n",
       "Some of this difference is likely due to not including other architectural improvements, such as relative-position embeddings or segment-level recurrence.</p><p>Pure language models perform best on ELI5 The ELI5 dataset is an outlier, with much higher perplexities than other tasks, and is the only generation task where other models outperform BART.\n",
       "A pure language model performs best, suggesting that BART is less effective when the output is only loosely constrained by the input.</p><p>BART achieves the most consistently strong performance.\n",
       "With the exception of ELI5, BART models using text-inﬁlling perform well on all tasks.</p><h3>5 Large-scale Pre-training Experiments</h3><p>Recent work has shown that downstream performance can dramatically improve when pre-training is scaled to large batch sizes (Yang et al., 2019; Liu et al., 2019) and corpora.\n",
       "To test how well BART performs in this regime, and to create a useful model for downstream tasks, we trained BART using the same scale as the RoBERTa model.</p><h4>5.1 Experimental Setup</h4><p>We pre-train a large model with 12 layers in each of the encoder and decoder, and a hidden size of 1024.\n",
       "Following RoBERTa (Liu et al., 2019), we use a batch size of 8000, and train the model for 500000 steps.\n",
       "Documents are tokenized with the same byte-pair encoding as GPT-2 (Radford et al., 2019).\n",
       "Based on the results in Section §4, we use a combination of text inﬁlling and sentence permutation.\n",
       "We mask 30% of tokens in each document, and permute all sentences.\n",
       "Although sentence permutation only shows signiﬁcant additive gains</p><table><th><td colSpan=1></td><td colSpan=1>SQuAD 1.1 EM/F1</td><td colSpan=1>SQuAD 2.0 EM/F1</td><td colSpan=1>MNLI m/mm</td><td colSpan=1>SST Acc</td><td colSpan=1>QQP Acc</td><td colSpan=1>QNLI Acc</td><td colSpan=1>STS-B Acc</td><td colSpan=1>RTE Acc</td><td colSpan=1>MRPC Acc</td><td colSpan=1>CoLA Mcc</td></th><tr><td colSpan=1>BERT</td><td colSpan=1>84.1/90.9</td><td colSpan=1>79.0/81.8</td><td colSpan=1>86.6/-</td><td colSpan=1>93.2</td><td colSpan=1>91.3</td><td colSpan=1>92.3</td><td colSpan=1>90.0</td><td colSpan=1>70.4</td><td colSpan=1>88.0</td><td colSpan=1>60.6</td></tr><tr><td colSpan=1>UniLM</td><td colSpan=1>-/-</td><td colSpan=1>80.5/83.4</td><td colSpan=1>87.0/85.9</td><td colSpan=1>94.5</td><td colSpan=1>-</td><td colSpan=1>92.7</td><td colSpan=1>-</td><td colSpan=1>70.9</td><td colSpan=1>-</td><td colSpan=1>61.1</td></tr><tr><td colSpan=1>XLNet</td><td colSpan=1>89.0/94.5</td><td colSpan=1>86.1/88.8</td><td colSpan=1>89.8/-</td><td colSpan=1>95.6</td><td colSpan=1>91.8</td><td colSpan=1>93.9</td><td colSpan=1>91.8</td><td colSpan=1>83.8</td><td colSpan=1>89.2</td><td colSpan=1>63.6</td></tr><tr><td colSpan=1>RoBERTa</td><td colSpan=1>88.9/94.6</td><td colSpan=1>86.5/89.4</td><td colSpan=1>90.2/90.2</td><td colSpan=1>96.4</td><td colSpan=1>92.2</td><td colSpan=1>94.7</td><td colSpan=1>92.4</td><td colSpan=1>86.6</td><td colSpan=1>90.9</td><td colSpan=1>68.0</td></tr><tr><td colSpan=1>BART</td><td colSpan=1>88.8/94.6</td><td colSpan=1>86.1/89.2</td><td colSpan=1>89.9/90.1</td><td colSpan=1>96.6</td><td colSpan=1>92.5</td><td colSpan=1>94.9</td><td colSpan=1>91.2</td><td colSpan=1>87.0</td><td colSpan=1>90.4</td><td colSpan=1>62.8</td></tr></table><p>Table 2: Results for large models on SQuAD and GLUE tasks.\n",
       "BART performs comparably to RoBERTa and XLNet, suggesting that BART’s uni-directional decoder layers do not reduce performance on discriminative tasks.</p><table><th><td colSpan=1></td><td>CNN/DailyMail</td><td>XSum</td></th><th><td colSpan=1></td><td colSpan=1>R1</td><td colSpan=1>R2</td><td colSpan=1>RL</td><td colSpan=1>R1</td><td colSpan=1>R2</td><td colSpan=1>RL</td></th><tr><td colSpan=1>Lead-3</td><td colSpan=1>40.42</td><td colSpan=1>17.62</td><td colSpan=1>36.67</td><td colSpan=1>16.30</td><td colSpan=1>1.60</td><td colSpan=1>11.95</td></tr><tr><td colSpan=1>PTGEN (See et al., 2017)</td><td colSpan=1>36.44</td><td colSpan=1>15.66</td><td colSpan=1>33.42</td><td colSpan=1>29.70</td><td colSpan=1>9.21</td><td colSpan=1>23.24</td></tr><tr><td colSpan=1>PTGEN+COV (See et al., 2017)</td><td colSpan=1>39.53</td><td colSpan=1>17.28</td><td colSpan=1>36.38</td><td colSpan=1>28.10</td><td colSpan=1>8.02</td><td colSpan=1>21.72</td></tr><tr><td colSpan=1>UniLM</td><td colSpan=1>43.33</td><td colSpan=1>20.21</td><td colSpan=1>40.51</td><td colSpan=1>-</td><td colSpan=1>-</td><td colSpan=1>-</td></tr><tr><td colSpan=1>BERTSUMABS (Liu & Lapata, 2019)</td><td colSpan=1>41.72</td><td colSpan=1>19.39</td><td colSpan=1>38.76</td><td colSpan=1>38.76</td><td colSpan=1>16.33</td><td colSpan=1>31.15</td></tr><tr><td colSpan=1>BERTSUMEXTABS (Liu & Lapata, 2019)</td><td colSpan=1>42.13</td><td colSpan=1>19.60</td><td colSpan=1>39.18</td><td colSpan=1>38.81</td><td colSpan=1>16.50</td><td colSpan=1>31.27</td></tr><tr><td colSpan=1>BART</td><td colSpan=1>44.16</td><td colSpan=1>21.28</td><td colSpan=1>40.90</td><td colSpan=1>45.14</td><td colSpan=1>22.27</td><td colSpan=1>37.25</td></tr></table><p>Table 3: Results on two standard summarization datasets.\n",
       "BART outperforms previous work on summarization on two tasks and all metrics, with gains of roughly 6 points on the more abstractive dataset.</p><p>on the CNN/DM summarization dataset, we hypothesised that larger pre-trained models may be better able to learn from this task.\n",
       "To help the model better ﬁt the data, we disabled dropout for the ﬁnal 10% of training steps.\n",
       "We use the same pre-training data as Liu et al.\n",
       "(2019), consisting of 160Gb of news, books, stories, and web text.</p><h4>5.2 Discriminative Tasks</h4><p>Table 2 compares the performance of BART with several recent approaches on the well-studied SQuAD and GLUE tasks (Warstadt et al., 2018; Socher et al., 2013; Dolan & Brockett, 2005; Agirre et al., 2007; Williams et al., 2018; Dagan et al., 2006; Levesque et al., 2011).</p><p>The most directly comparable baseline is RoBERTa, which was pre-trained with the same resources, but a different objective.\n",
       "Overall, BART performs similarly, with only small differences between the models on most tasks.\n",
       "suggesting that BART’s improvements on generation tasks do not come at the expense of classiﬁcation performance.</p><h4>5.3 Generation Tasks</h4><p>We also experiment with several text generation tasks.\n",
       "BART is ﬁne-tuned as a standard sequence-to-sequence model from the input to the output text.\n",
       "During ﬁnetuning we use a label smoothed cross entropy loss (Pereyra et al., 2017), with the smoothing parameter set to 0.1.\n",
       "During generation, we set beam size as 5, remove duplicated trigrams in beam search, and tuned the model with min-len, max-len, length penalty on the validation set (Fan et al., 2017).</p><table><th><td colSpan=1></td><td>ConvAI2</td><td>Valid F1 Valid PPL</td></th><th><td colSpan=1>Seq2Seq + Attention</td><td colSpan=1>16.02</td><td colSpan=1>35.07</td></th><tr><td colSpan=1>Best System</td><td colSpan=1>19.09</td><td colSpan=1>17.51</td></tr><tr><td colSpan=1>BART</td><td colSpan=1>20.72</td><td colSpan=1>11.85</td></tr></table><p>Table 4: BART outperforms previous work on conversational response generation.\n",
       "Perplexities are renormalized based on ofﬁcial tokenizer for ConvAI2.</p><p>Summarization To provide a comparison with the state-of-the-art in summarization, we present results on two summarization datasets, CNN/DailyMail and XSum, which have distinct properties.</p><p>Summaries in the CNN/DailyMail tend to resemble source sentences.\n",
       "Extractive models do well here, and even the baseline of the ﬁrst-three source sentences is highly competitive.\n",
       "Nevertheless, BART outperforms all existing work.</p><p>In contrast, XSum is highly abstractive, and extractive models perform poorly.\n",
       "BART outperforms the best previous work, which leverages BERT, by roughly 6.0 points on all ROUGE metrics—representing a signiﬁcant advance in performance on this problem.\n",
       "Qualitatively, sample quality is high (see §6).</p><p>Dialogue We evaluate dialogue response generation on CONVAI2 (Dinan et al., 2019), in which agents must generate responses conditioned on both the previous context and a textually-speciﬁed persona.\n",
       "BART outperforms previous work on two automated metrics.</p><h4>R2 RL</h4><table><th><td colSpan=1>Best Extractive</td><td colSpan=1>23.5</td><td colSpan=1>3.1</td><td colSpan=1>17.5</td></th><tr><td colSpan=1>Language Model Seq2Seq</td><td colSpan=1>27.8 28.3</td><td colSpan=1>4.7 5.1</td><td colSpan=1>23.1 22.8</td></tr><tr><td colSpan=1>Seq2Seq Multitask BART</td><td colSpan=1>28.9 30.6</td><td colSpan=1>5.4 6.2</td><td colSpan=1>23.1 24.3</td></tr></table><p>Table 5: BART achieves state-of-the-art results on the challenging ELI5 abstractive question answering dataset.\n",
       "Comparison models are from Fan et al.\n",
       "(2019).</p><h5>RO-EN</h5><table></table><table><th><td colSpan=1>7 Related Work</td><td colSpan=1></td></th><tr><td colSpan=1>Baseline</td><td colSpan=1>36.80</td></tr><tr><td colSpan=1>Fixed BART 36.29 Tuned BART 37.96</td></tr><tr><td colSpan=1>Table 6: The performance (BLEU) of baseline and BART on WMT’16 RO-EN augmented with backtranslation data. BART improves over a strong backtranslation (BT) baseline by using monolingual English pre-training.</td></tr><tr><td colSpan=1>Abstractive QA We use the recently proposed ELI5 dataset to test the model’s ability to generate long freeform answers. We ﬁnd BART outperforms the best previous work by 1.2 ROUGE-L, but the dataset remains a challenging, because answers are only weakly speciﬁed by the question.</td></tr><tr><td colSpan=1>5.4 Translation</td></tr><tr><td colSpan=1>We also evaluated performance on WMT16 RomanianEnglish, augmented with back-translation data from Sennrich et al. (2016). We use a 6-layer transformer source encoder to map Romanian into a representation that BART is able to de-noise into English, following the approach introduced in §3.4. Experiment results are presented in Table 6. We compare our results against a baseline Transformer architecture (Vaswani et al., 2017) with Transformerlarge settings (the baseline row). We show the performance of both steps of our model in the ﬁxed BART and tuned BART rows. For each row we experiment on the original WMT16 Romanian-English augmented with back-translation data. We use a beam width of 5 and a length penalty of α = 1. Preliminary results suggested that our approach was less effective without back-translation data, and prone to overﬁtting—future work should explore additional regularization techniques.</td></tr><tr><td colSpan=1>6 Qualitative Analysis</td></tr><tr><td colSpan=1>BART shows large improvements on summarization metrics, of up to 6 points over the prior state-of-the-art. To understand BART’s performance beyond automated metrics, we analyse its generations qualitatively.</td></tr><tr><td colSpan=1>Table 7 shows example summaries generated by BART. Examples are taken from WikiNews articles published after the creation of the pre-training corpus, to eliminate the possibility of the events described being present in the model’s training data. Following Narayan et al. (2018), we remove the ﬁrst sentence of the article prior to summarizing it, so there is no easy extractive summary of the document.</td></tr><tr><td colSpan=1>Unsurprisingly, model output is ﬂuent and grammatical English. However, model output is also highly abstractive, with few phrases copied from the input. The output is also generally factually accurate, and integrates supporting evidence from across the input document with background knowledge (for example, correctly completing names, or inferring that PG&E operates in California). In the ﬁrst example, inferring that ﬁsh are protecting reefs from global warming requires non-trivial inference from the text. However, the claim that the work was published in Science is not supported by the source.</td></tr><tr><td colSpan=1>These samples demonstrate that the BART pretraining has learned a strong combination of natural language understanding and generation.</td></tr><tr><td>Early methods for pretraining were based on language models. GPT (Radford et al., 2018) only models left- ward context, which is problematic for some tasks. ELMo (Peters et al., 2018) concatenates left-only and right-only representations, but does not pre-train inter- actions between these features. Radford et al. (2019) demonstrated that very large language models can act as unsupervised multitask models.</td></tr><tr><td>BERT (Devlin et al., 2019) introduced masked lan- guage modelling, which allows pre-training to learn in- teractions between left and right context words. Re- cent work has shown that very strong performance can be achieved by training for longer (Liu et al., 2019), by tying parameters across layers (Lan et al., 2019), and by masking spans instead of words (Joshi et al., 2019). Predictions are not made auto-regressively, re- ducing the effectiveness of BERT for generation tasks.</td></tr><tr><td>UniLM (Dong et al., 2019) ﬁne-tunes BERT with an ensemble of masks, some of which allow only leftward context. Like BART, this allows UniLM to be used for both generative and discriminative tasks. A difference is that UniLM predictions are conditionally indepen- dent, whereas BART’s are autoregressive. BART re- duces the mismatch between pre-training and genera- tion tasks, because the decoder is always trained on un- corrupted context.</td></tr><tr><td>MASS (Song et al., 2019) is perhaps the most similar model to BART. An input sequence where a contiguous span of tokens is masked is mapped to a sequence con- sisting of the missing tokens. MASS is less effective for discriminative tasks, because disjoint sets of tokens are fed into the encoder and decoder.</td></tr><tr><td>XL-Net (Yang et al., 2019) extends BERT by pre-</td></tr><tr><td colSpan=1>Source Document (abbreviated)</td><td colSpan=1>BART Summary</td></tr><tr><td colSpan=1>The researchers examined three types of coral in reefs off the coast of Fiji The researchers found when ﬁsh were plentiful, they would eat algae and seaweed off the corals, which appeared to leave them more resistant to the bacterium Vibrio coralliilyti- cus, a bacterium associated with bleaching. The researchers sug- gested the algae, like warming temperatures, might render the corals’ chemical defenses less effective, and the ﬁsh were pro- tecting the coral by removing the algae.</td><td colSpan=1>Fisheries off the coast of Fiji are protect- ing coral reefs from the effects of global warming, according to a study in the jour- nal Science.</td></tr><tr><td colSpan=1>Sacoolas, who has immunity as a diplomat’s wife, was involved in a trafﬁc collision Prime Minister Johnson was questioned about the case while speaking to the press at a hospital in Wat- ford. He said, “I hope that Anne Sacoolas will come back if we can’t resolve it then of course I will be raising it myself personally with the White House.”</td><td colSpan=1>Boris Johnson has said he will raise the is- sue of US diplomat Anne Sacoolas’ diplo- matic immunity with the White House.</td></tr><tr><td colSpan=1>According to Syrian state media, government forces began de- ploying into previously SDF controlled territory yesterday. On October 6, US President Donald Trump and Turkish Presi- dent Recep Tayyip Erdoan spoke on the phone. Then both na- tions issued statements speaking of an imminent incursion into northeast Syria . On Wednesday, Turkey began a military offensive with airstrikes followed by a ground invasion. Syrian government forces have entered territory held by the US-backed Syrian Democratic Forces (SDF) in response to Turkey’s incursion into the region.</td><td colSpan=1></td></tr><tr><td colSpan=1>This is the ﬁrst time anyone has been recorded to run a full marathon of 42.195 kilometers (approximately 26 miles) under this pursued landmark time. It was not, however, an ofﬁcially sanctioned world record, as it was not an”open race” of the IAAF. His time was 1 hour 59 minutes 40.2 seconds. Kipchoge ran in Vienna, Austria. It was an event speciﬁcally designed to help Kipchoge break the two hour barrier.</td><td colSpan=1>Kenyan runner Eliud Kipchoge has run a marathon in less than two hours.</td></tr><tr><td colSpan=1>PG&E stated it scheduled the blackouts in response to forecasts for high winds amid dry conditions. The aim is to reduce the risk of wildﬁres. Nearly 800 thousand customers were scheduled to be affected by the shutoffs which were expected to last through at least midday tomorrow.</td><td colSpan=1>Power has been turned off to millions of customers in California as part of a power shutoff plan.</td></tr></table><p>Table 7: Example summaries from the XSum-tuned BART model on WikiNews articles.\n",
       "For clarity, only relevant excerpts of the source are shown.\n",
       "Summaries combine information from across the article and prior knowledge.</p><p>dicting masked tokens auto-regressively in a permuted order.\n",
       "This objective allows predictions to condition on both left and right context.\n",
       "In contrast, the BART decoder works left-to-right during pre-training, matching the setting during generation.</p><p>Several papers have explored using pre-trained representations to improve machine translation.\n",
       "The largest improvements have come from pre-training on both source and target languages (Song et al., 2019; Lample & Conneau, 2019), but this requires pretraining on all languages of interest.\n",
       "Other work has shown that encoders can be improved using pre-trained representations (Edunov et al., 2019), but gains in decoders are more limited.\n",
       "We show how BART can be used to improve machine translation decoders.</p>"
      ],
      "text/plain": [
       "<IPython.core.display.HTML object>"
      ]
     },
     "execution_count": 120,
     "metadata": {},
     "output_type": "execute_result"
    }
   ],
   "source": [
    "HTML(doc.sections()[0].to_html(include_children=True, recurse=True))\n",
    "# doc.sections()[1].block_json\n",
    "# doc.sections()[0].to_text()"
   ]
  }
 ],
 "metadata": {
  "kernelspec": {
   "display_name": "Python 3 (ipykernel)",
   "language": "python",
   "name": "python3"
  },
  "language_info": {
   "codemirror_mode": {
    "name": "ipython",
    "version": 3
   },
   "file_extension": ".py",
   "mimetype": "text/x-python",
   "name": "python",
   "nbconvert_exporter": "python",
   "pygments_lexer": "ipython3",
   "version": "3.11.5"
  }
 },
 "nbformat": 4,
 "nbformat_minor": 5
}
